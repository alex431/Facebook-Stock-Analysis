{
 "cells": [
  {
   "cell_type": "code",
   "execution_count": 6,
   "metadata": {},
   "outputs": [],
   "source": [
    "import pandas as pd\n",
    "import seaborn as sns\n",
    "import matplotlib.pyplot as plt\n",
    "import statistics as stat\n",
    "import datetime as dt"
   ]
  },
  {
   "cell_type": "code",
   "execution_count": 7,
   "metadata": {},
   "outputs": [
    {
     "data": {
      "text/plain": [
       "Date       object\n",
       "Open      float64\n",
       "High      float64\n",
       "Low       float64\n",
       "Close     float64\n",
       "Volume      int64\n",
       "dtype: object"
      ]
     },
     "execution_count": 7,
     "metadata": {},
     "output_type": "execute_result"
    }
   ],
   "source": [
    "fb_db = pd.read_csv('FB_stock_history.csv')\n",
    "fb_db.drop(['Dividends','Stock Splits'],axis=1,inplace=True)\n",
    "#fb_db= fb_db.astype({'Date':'string'})\n",
    "\n",
    "fb_db.dtypes"
   ]
  },
  {
   "cell_type": "code",
   "execution_count": 8,
   "metadata": {},
   "outputs": [
    {
     "name": "stdout",
     "output_type": "stream",
     "text": [
      "           Date        Open        High         Low       Close    Volume\n",
      "0    2013-01-02   27.440001   28.180000   27.420000   28.000000  69846400\n",
      "1    2013-01-03   27.879999   28.469999   27.590000   27.770000  63140600\n",
      "2    2013-01-04   28.010000   28.930000   27.830000   28.760000  72715400\n",
      "3    2013-01-07   28.690001   29.790001   28.650000   29.420000  83781800\n",
      "4    2013-01-08   29.510000   29.600000   28.860001   29.059999  45871300\n",
      "..          ...         ...         ...         ...         ...       ...\n",
      "750  2019-12-24  206.300003  206.789993  205.000000  205.119995   6046300\n",
      "751  2019-12-26  205.570007  207.820007  205.309998  207.789993   9350700\n",
      "752  2019-12-27  208.669998  208.929993  206.589996  208.100006  10284200\n",
      "753  2019-12-30  207.860001  207.899994  203.899994  204.410004  10524300\n",
      "754  2019-12-31  204.000000  205.559998  203.600006  205.250000   8953500\n",
      "\n",
      "[755 rows x 6 columns]\n"
     ]
    },
    {
     "data": {
      "text/plain": [
       "Date       object\n",
       "Open      float64\n",
       "High      float64\n",
       "Low       float64\n",
       "Close     float64\n",
       "Volume      int64\n",
       "dtype: object"
      ]
     },
     "execution_count": 8,
     "metadata": {},
     "output_type": "execute_result"
    }
   ],
   "source": [
    "\n",
    "format_date_2013=fb_db[fb_db['Date'].str.contains(\"2013\")]\n",
    "format_date_2018=fb_db[fb_db['Date'].str.contains(\"2018\")]\n",
    "format_date_2019=fb_db[fb_db['Date'].str.contains(\"2019\")]\n",
    "\n",
    "format_date=[format_date_2013, format_date_2018, format_date_2019]\n",
    "stock_filter=pd.concat(format_date).reset_index(drop=True)\n",
    "\n",
    "#year= stock_filter['Date]\n",
    "#year.str.split(\"-\")[0]\n",
    "\n",
    "#fb_db['Date']=pd.to_datetime(fb_db['Date'])\n",
    "#stock_filter.groupby(stock_filter.dt.year)[stock_filter['Date']]\n",
    "print(stock_filter)\n",
    "stock_filter.to_csv('Facebook_Stock_Filter.csv')\n",
    "\n",
    "stock_filter.dtypes"
   ]
  }
 ],
 "metadata": {
  "kernelspec": {
   "display_name": "base",
   "language": "python",
   "name": "python3"
  },
  "language_info": {
   "codemirror_mode": {
    "name": "ipython",
    "version": 3
   },
   "file_extension": ".py",
   "mimetype": "text/x-python",
   "name": "python",
   "nbconvert_exporter": "python",
   "pygments_lexer": "ipython3",
   "version": "3.9.13"
  },
  "orig_nbformat": 4,
  "vscode": {
   "interpreter": {
    "hash": "e42634819b8c191a5d07eaf23810ff32516dd8d3875f28ec3e488928fbd3c187"
   }
  }
 },
 "nbformat": 4,
 "nbformat_minor": 2
}
