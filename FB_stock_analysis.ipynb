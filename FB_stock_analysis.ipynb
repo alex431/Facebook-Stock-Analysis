{
 "cells": [
  {
   "cell_type": "code",
   "execution_count": 11,
   "metadata": {},
   "outputs": [],
   "source": [
    "import pandas as pd\n",
    "import seaborn as sns\n",
    "import matplotlib.pyplot as plt\n",
    "import statistics as stat"
   ]
  },
  {
   "cell_type": "code",
   "execution_count": 12,
   "metadata": {},
   "outputs": [],
   "source": [
    "fb_stock = pd.read_csv('FB_stock_history.csv')\n",
    "fb_stock.drop(['Dividends','Stock Splits'],axis=1,inplace=True)"
   ]
  },
  {
   "cell_type": "code",
   "execution_count": 13,
   "metadata": {},
   "outputs": [
    {
     "name": "stdout",
     "output_type": "stream",
     "text": [
      "            Open        High         Low       Close        Volume\n",
      "Year                                                              \n",
      "2012   24.799613   25.300903   24.195871   24.673097  5.464815e+07\n",
      "2013   35.476429   36.045040   34.930159   35.481151  6.009199e+07\n",
      "2014   68.763968   69.639524   67.830199   68.762341  4.753055e+07\n",
      "2015   88.749405   89.683373   87.762778   88.772857  2.695888e+07\n",
      "2016  117.081071  118.091706  115.865873  117.035873  2.547507e+07\n",
      "2017  156.481076  157.557530  155.347012  156.576175  1.678995e+07\n",
      "2018  171.472948  173.613347  169.303148  171.510956  2.765860e+07\n",
      "2019  181.566547  183.482539  179.648889  181.637500  1.620627e+07\n",
      "2020  234.348696  237.939922  230.790040  234.550870  2.244630e+07\n",
      "2021  317.405238  321.153492  313.943755  317.614762  1.746952e+07\n"
     ]
    }
   ],
   "source": [
    "fb_stock['Year']=pd.to_datetime(fb_stock['Date']).dt.year\n",
    "annual_avg=fb_stock.groupby(['Year'])[['Open', 'High', 'Low', 'Close', 'Volume']].mean()\n",
    "print(annual_avg)"
   ]
  },
  {
   "cell_type": "code",
   "execution_count": 18,
   "metadata": {},
   "outputs": [
    {
     "name": "stdout",
     "output_type": "stream",
     "text": [
      "            Date        Open        High         Low       Close     Volume  \\\n",
      "0     2012-05-18   42.049999   45.000000   38.000000   38.230000  573576400   \n",
      "1     2012-05-21   36.529999   36.660000   33.000000   34.029999  168192700   \n",
      "2     2012-05-22   32.610001   33.590000   30.940001   31.000000  101786600   \n",
      "3     2012-05-23   31.370001   32.500000   31.360001   32.000000   73600000   \n",
      "4     2012-05-24   32.950001   33.209999   31.770000   33.029999   50237200   \n",
      "...          ...         ...         ...         ...         ...        ...   \n",
      "2354  2021-09-27  349.809998  355.149994  347.079987  353.579987   15205800   \n",
      "2355  2021-09-28  347.970001  349.600006  338.920013  340.649994   21710300   \n",
      "2356  2021-09-29  343.149994  345.230011  338.880005  339.609985   14452200   \n",
      "2357  2021-09-30  340.450012  342.799988  338.149994  339.390015   16547100   \n",
      "2358  2021-10-01  341.609985  345.010010  338.640015  343.010010   14789507   \n",
      "\n",
      "      Year  \n",
      "0     2012  \n",
      "1     2012  \n",
      "2     2012  \n",
      "3     2012  \n",
      "4     2012  \n",
      "...    ...  \n",
      "2354  2021  \n",
      "2355  2021  \n",
      "2356  2021  \n",
      "2357  2021  \n",
      "2358  2021  \n",
      "\n",
      "[2359 rows x 7 columns]\n"
     ]
    }
   ],
   "source": [
    "print(fb_stock)\n",
    "#fb_stock.insert(0,'Year',annual_avg)\n",
    "#print(fb_stock)\n",
    "\n",
    "#annual_avg.to_csv(\"FB_annual_averages(2012-2021).csv\")"
   ]
  },
  {
   "cell_type": "code",
   "execution_count": 14,
   "metadata": {},
   "outputs": [],
   "source": [
    "\n",
    "#format_date_2013=fb_db[fb_db['Date'].str.contains(\"2013\")]\n",
    "#format_date_2018=fb_db[fb_db['Date'].str.contains(\"2018\")]\n",
    "#format_date_2019=fb_db[fb_db['Date'].str.contains(\"2019\")]\n",
    "#format_date=[format_date_2013, format_date_2018, format_date_2019]\n",
    "#stock_filter=pd.concat(format_date).reset_index(drop=True)\n",
    "\n",
    "#stock_filter.to_csv('Facebook_Stock_Filter.csv')\n",
    "\n",
    "#stock_date_2019=fb_db[fb_db['Date'].str.contains(\"2019\")].reset_index(drop=True)\n",
    "\n",
    "#format_date=[format_date_2013, format_date_2018, format_date_2019]\n",
    "#stock_filter=pd.concat(format_date).reset_index(drop=True)\n",
    "\n",
    "#stock_year_filter=stock_date_2019['Date'].str[0:4]\n",
    "#stock_date_2019.insert(1,'Year',stock_year_filter)\n",
    "\n",
    "#stock_date_2019.to_csv('Facebook_Stock_Filter_2019.csv')\n"
   ]
  }
 ],
 "metadata": {
  "kernelspec": {
   "display_name": "base",
   "language": "python",
   "name": "python3"
  },
  "language_info": {
   "codemirror_mode": {
    "name": "ipython",
    "version": 3
   },
   "file_extension": ".py",
   "mimetype": "text/x-python",
   "name": "python",
   "nbconvert_exporter": "python",
   "pygments_lexer": "ipython3",
   "version": "3.9.13"
  },
  "orig_nbformat": 4,
  "vscode": {
   "interpreter": {
    "hash": "e42634819b8c191a5d07eaf23810ff32516dd8d3875f28ec3e488928fbd3c187"
   }
  }
 },
 "nbformat": 4,
 "nbformat_minor": 2
}
