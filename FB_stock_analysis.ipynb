{
 "cells": [
  {
   "cell_type": "code",
   "execution_count": 1,
   "metadata": {},
   "outputs": [],
   "source": [
    "import pandas as pd\n",
    "import seaborn as sns\n",
    "import matplotlib.pyplot as plt\n",
    "import statistics as stat \n",
    "import numpy as np"
   ]
  },
  {
   "cell_type": "code",
   "execution_count": 2,
   "metadata": {},
   "outputs": [],
   "source": [
    "fb_stock = pd.read_csv('FB_stock_history.csv')\n",
    "fb_stock.drop(['Dividends','Stock Splits'],axis=1,inplace=True)"
   ]
  },
  {
   "cell_type": "code",
   "execution_count": 3,
   "metadata": {},
   "outputs": [
    {
     "name": "stdout",
     "output_type": "stream",
     "text": [
      "    Year  Month       Date        Open        High         Low       Close  \\\n",
      "0   2013      6 2013-06-03   24.270000   24.320000   23.709999   23.850000   \n",
      "1   2013      6 2013-06-04   23.889999   23.930000   23.320000   23.520000   \n",
      "2   2013      6 2013-06-05   23.350000   23.709999   22.790001   22.900000   \n",
      "3   2013      6 2013-06-06   22.990000   23.090000   22.670000   22.969999   \n",
      "4   2013      6 2013-06-07   23.030001   23.400000   22.860001   23.290001   \n",
      "..   ...    ...        ...         ...         ...         ...         ...   \n",
      "75  2019     12 2019-12-24  206.300003  206.789993  205.000000  205.119995   \n",
      "76  2019     12 2019-12-26  205.570007  207.820007  205.309998  207.789993   \n",
      "77  2019     12 2019-12-27  208.669998  208.929993  206.589996  208.100006   \n",
      "78  2019     12 2019-12-30  207.860001  207.899994  203.899994  204.410004   \n",
      "79  2019     12 2019-12-31  204.000000  205.559998  203.600006  205.250000   \n",
      "\n",
      "      Volume  \n",
      "0   35733800  \n",
      "1   34760800  \n",
      "2   53819700  \n",
      "3   31260700  \n",
      "4   38699200  \n",
      "..       ...  \n",
      "75   6046300  \n",
      "76   9350700  \n",
      "77  10284200  \n",
      "78  10524300  \n",
      "79   8953500  \n",
      "\n",
      "[80 rows x 8 columns]\n"
     ]
    }
   ],
   "source": [
    "fb_stock['Date'] = pd.to_datetime(fb_stock['Date'])\n",
    "mask = (fb_stock['Date'] > '2013-06-01') & (fb_stock['Date'] <= '2013-06-30')\n",
    "mask2= (fb_stock['Date'] > '2018-09-01') & (fb_stock['Date'] <= '2018-09-30')\n",
    "mask3= (fb_stock['Date'] > '2019-04-01') & (fb_stock['Date'] <= '2019-04-30')\n",
    "mask4= (fb_stock['Date'] > '2019-12-01') & (fb_stock['Date'] <= '2019-12-31')\n",
    "\n",
    "stock_dates_june =fb_stock[mask]\n",
    "stock_dates_sept =fb_stock[mask2]\n",
    "stock_dates_apr =fb_stock[mask3]\n",
    "stock_dates_dec=fb_stock[mask4]\n",
    "#print(stock_dates_june)\n",
    "\n",
    "stock_dates=[stock_dates_june,stock_dates_sept,stock_dates_apr,stock_dates_dec]\n",
    "stock_breach = pd.concat(stock_dates).reset_index(drop=True)\n",
    "stock_breach['Year'] = pd.DatetimeIndex(stock_breach['Date']).year\n",
    "stock_breach['Month'] = pd.DatetimeIndex(stock_breach['Date']).month\n",
    "stock_breach=stock_breach[[\"Year\",\"Month\",\"Date\",\"Open\",\"High\",\"Low\",\"Close\",\"Volume\"]]\n",
    "#stock_breach.insert(0, 'Year', stock_breach['Year'])\n",
    "#stock_breach.insert(1, 'Month', stock_breach['Month'])\n",
    "print(stock_breach)\n",
    "\n",
    "#stock_breach.to_csv('FB_stock_breach.csv')"
   ]
  },
  {
   "cell_type": "code",
   "execution_count": 4,
   "metadata": {},
   "outputs": [
    {
     "name": "stdout",
     "output_type": "stream",
     "text": [
      "                  Open        High         Low       Close        Volume\n",
      "Year Month                                                              \n",
      "2013 6       23.982500   24.298500   23.656000   23.944000  3.941658e+07\n",
      "2018 9      164.233158  166.399473  162.416843  164.377368  2.634046e+07\n",
      "2019 4      180.939501  182.743500  179.539498  181.136499  1.858019e+07\n",
      "     12     202.142381  203.538095  200.209999  201.951904  1.315510e+07\n"
     ]
    }
   ],
   "source": [
    "monthly_avg=stock_breach.groupby(['Year','Month'])[['Open', 'High', 'Low', 'Close', 'Volume']].mean()\n",
    "print(monthly_avg)"
   ]
  },
  {
   "cell_type": "code",
   "execution_count": 6,
   "metadata": {},
   "outputs": [
    {
     "name": "stdout",
     "output_type": "stream",
     "text": [
      "                 Close        High         Low        Open        Volume\n",
      "Year Month                                                              \n",
      "2012 5       31.870000   33.868889   31.057778   33.015556  1.390570e+08\n",
      "     6       29.540476   30.232381   28.893333   29.537143  3.180526e+07\n",
      "     7       28.880000   29.598095   28.437619   29.143333  2.477094e+07\n",
      "     8       20.108261   20.644783   19.768696   20.287391  5.008456e+07\n",
      "     9       20.627895   21.089474   20.170526   20.629474  5.571809e+07\n",
      "...                ...         ...         ...         ...           ...\n",
      "2021 6      336.425909  339.281365  332.804090  335.753636  1.567320e+07\n",
      "     7      353.377145  356.978571  349.225237  352.984288  1.597194e+07\n",
      "     8      363.016821  365.617271  359.100908  361.626823  1.027787e+07\n",
      "     9      363.967143  367.679523  360.536189  365.055713  1.610047e+07\n",
      "     10     343.010010  345.010010  338.640015  341.609985  1.478951e+07\n",
      "\n",
      "[114 rows x 5 columns]\n"
     ]
    }
   ],
   "source": [
    "#fb_stock['Year']=pd.to_datetime(fb_stock['Date']).dt.year\n",
    "#fb_stock['Month']=pd.to_datetime(fb_stock['Date']).dt.month\n",
    "#stock_pivot=pd.pivot_table(fb_stock, values=['Open', 'High', 'Low', 'Close', 'Volume'], index=['Year','Month'],aggfunc={'Open': np.mean,'High': np.mean,'Low': np.mean,'Close': np.mean, 'Volume': np.mean})\n",
    "#print(stock_pivot)"
   ]
  },
  {
   "cell_type": "code",
   "execution_count": 7,
   "metadata": {},
   "outputs": [
    {
     "name": "stdout",
     "output_type": "stream",
     "text": [
      "                  Open        High         Low       Close        Volume\n",
      "Year Month                                                              \n",
      "2012 5       33.015556   33.868889   31.057778   31.870000  1.390570e+08\n",
      "     6       29.537143   30.232381   28.893333   29.540476  3.180526e+07\n",
      "     7       29.143333   29.598095   28.437619   28.880000  2.477094e+07\n",
      "     8       20.287391   20.644783   19.768696   20.108261  5.008456e+07\n",
      "     9       20.629474   21.089474   20.170526   20.627895  5.571809e+07\n",
      "...                ...         ...         ...         ...           ...\n",
      "2021 6      335.753636  339.281365  332.804090  336.425909  1.567320e+07\n",
      "     7      352.984288  356.978571  349.225237  353.377145  1.597194e+07\n",
      "     8      361.626823  365.617271  359.100908  363.016821  1.027787e+07\n",
      "     9      365.055713  367.679523  360.536189  363.967143  1.610047e+07\n",
      "     10     341.609985  345.010010  338.640015  343.010010  1.478951e+07\n",
      "\n",
      "[114 rows x 5 columns]\n"
     ]
    }
   ],
   "source": [
    "fb_stock['Year']=pd.to_datetime(fb_stock['Date']).dt.year\n",
    "fb_stock['Month']=pd.to_datetime(fb_stock['Date']).dt.month\n",
    "stock_his_average=fb_stock.groupby(['Year','Month'])[['Open', 'High', 'Low', 'Close', 'Volume']].mean()\n",
    "print(stock_his_average)"
   ]
  },
  {
   "cell_type": "code",
   "execution_count": null,
   "metadata": {},
   "outputs": [],
   "source": [
    "#print(fb_stock)\n",
    "#fb_stock.insert(0,'Year',annual_avg)\n",
    "#print(fb_stock)\n",
    "stock_his_average.to_csv(\"FB_stock_averages(2012-2021).csv\")\n",
    "#annual_avg.to_csv(\"FB_annual_averages(2012-2021).csv\")"
   ]
  },
  {
   "cell_type": "code",
   "execution_count": null,
   "metadata": {},
   "outputs": [],
   "source": [
    "\n",
    "#format_date_2013=fb_db[fb_db['Date'].str.contains(\"2013\")]\n",
    "#format_date_2018=fb_db[fb_db['Date'].str.contains(\"2018\")]\n",
    "#format_date_2019=fb_db[fb_db['Date'].str.contains(\"2019\")]\n",
    "#format_date=[format_date_2013, format_date_2018, format_date_2019]\n",
    "#stock_filter=pd.concat(format_date).reset_index(drop=True)\n",
    "\n",
    "#stock_filter.to_csv('Facebook_Stock_Filter.csv')\n",
    "\n",
    "#stock_date_2019=fb_db[fb_db['Date'].str.contains(\"2019\")].reset_index(drop=True)\n",
    "\n",
    "#format_date=[format_date_2013, format_date_2018, format_date_2019]\n",
    "#stock_filter=pd.concat(format_date).reset_index(drop=True)\n",
    "\n",
    "#stock_year_filter=stock_date_2019['Date'].str[0:4]\n",
    "#stock_date_2019.insert(1,'Year',stock_year_filter)\n",
    "\n",
    "#stock_date_2019.to_csv('Facebook_Stock_Filter_2019.csv')\n"
   ]
  }
 ],
 "metadata": {
  "kernelspec": {
   "display_name": "base",
   "language": "python",
   "name": "python3"
  },
  "language_info": {
   "codemirror_mode": {
    "name": "ipython",
    "version": 3
   },
   "file_extension": ".py",
   "mimetype": "text/x-python",
   "name": "python",
   "nbconvert_exporter": "python",
   "pygments_lexer": "ipython3",
   "version": "3.9.13"
  },
  "orig_nbformat": 4,
  "vscode": {
   "interpreter": {
    "hash": "e42634819b8c191a5d07eaf23810ff32516dd8d3875f28ec3e488928fbd3c187"
   }
  }
 },
 "nbformat": 4,
 "nbformat_minor": 2
}
