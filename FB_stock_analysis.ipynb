{
 "cells": [
  {
   "cell_type": "code",
   "execution_count": 7,
   "metadata": {},
   "outputs": [],
   "source": [
    "import pandas as pd\n",
    "import seaborn as sns\n",
    "import matplotlib.pyplot as plt\n",
    "import statistics as stat"
   ]
  },
  {
   "cell_type": "code",
   "execution_count": 8,
   "metadata": {},
   "outputs": [],
   "source": [
    "fb_db = pd.read_csv('FB_stock_history.csv')\n",
    "fb_db.drop(['Dividends','Stock Splits'],axis=1,inplace=True)"
   ]
  },
  {
   "cell_type": "code",
   "execution_count": 9,
   "metadata": {},
   "outputs": [],
   "source": [
    "\n",
    "#format_date_2013=fb_db[fb_db['Date'].str.contains(\"2013\")]\n",
    "#format_date_2018=fb_db[fb_db['Date'].str.contains(\"2018\")]\n",
    "#format_date_2019=fb_db[fb_db['Date'].str.contains(\"2019\")]\n",
    "#format_date=[format_date_2013, format_date_2018, format_date_2019]\n",
    "#stock_filter=pd.concat(format_date).reset_index(drop=True)\n",
    "#stock_filter.to_csv('Facebook_Stock_Filter.csv')\n",
    "\n",
    "stock_date_2019=fb_db[fb_db['Date'].str.contains(\"2019\")].reset_index(drop=True)\n",
    "\n",
    "#format_date=[format_date_2013, format_date_2018, format_date_2019]\n",
    "#stock_filter=pd.concat(format_date).reset_index(drop=True)\n",
    "\n",
    "stock_year_filter=stock_date_2019['Date'].str[0:4]\n",
    "stock_date_2019.insert(1,'Year',stock_year_filter)\n",
    "\n",
    "stock_date_2019.to_csv('Facebook_Stock_Filter_2019.csv')\n"
   ]
  }
 ],
 "metadata": {
  "kernelspec": {
   "display_name": "base",
   "language": "python",
   "name": "python3"
  },
  "language_info": {
   "codemirror_mode": {
    "name": "ipython",
    "version": 3
   },
   "file_extension": ".py",
   "mimetype": "text/x-python",
   "name": "python",
   "nbconvert_exporter": "python",
   "pygments_lexer": "ipython3",
   "version": "3.9.13"
  },
  "orig_nbformat": 4,
  "vscode": {
   "interpreter": {
    "hash": "e42634819b8c191a5d07eaf23810ff32516dd8d3875f28ec3e488928fbd3c187"
   }
  }
 },
 "nbformat": 4,
 "nbformat_minor": 2
}
