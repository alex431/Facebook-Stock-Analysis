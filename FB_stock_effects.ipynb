{
 "cells": [
  {
   "attachments": {},
   "cell_type": "markdown",
   "metadata": {},
   "source": [
    "\n",
    "Importing libraries for data manipulation\n"
   ]
  },
  {
   "cell_type": "code",
   "execution_count": 1,
   "metadata": {},
   "outputs": [],
   "source": [
    "\n",
    "import pandas as pd\n"
   ]
  },
  {
   "attachments": {},
   "cell_type": "markdown",
   "metadata": {},
   "source": [
    "\n",
    "Reading the CSV files into two dataframes. Then, I'm performing a merge using Pandas via right outer join on the 'Year' column to serve as my key. \n"
   ]
  },
  {
   "cell_type": "code",
   "execution_count": 2,
   "metadata": {},
   "outputs": [],
   "source": [
    "\n",
    "fb_breach=pd.read_csv('FB_record_averages.csv',index_col=[0])\n",
    "fb_stock=pd.read_csv('FB_stock_averages(2012-2021).csv', index_col=[0])\n",
    "\n",
    "fb_merge=pd.merge(fb_breach,fb_stock,on ='Year', how='right')\n"
   ]
  },
  {
   "attachments": {},
   "cell_type": "markdown",
   "metadata": {},
   "source": [
    "\n",
    "Here I'm replacing the null values of the 'Records' column with NaN. Since the data breaches dataset does not contain this information, I added a 'Breach' column to signify when Facebook experienced a data breach.\n"
   ]
  },
  {
   "cell_type": "code",
   "execution_count": 3,
   "metadata": {},
   "outputs": [],
   "source": [
    "\n",
    "fb_merge['Records'].fillna('NaN', inplace= True) \n",
    "fb_merge['Breach'] = fb_merge['Records'].apply(lambda row: 0 if row == \"NaN\" else 1)\n"
   ]
  },
  {
   "attachments": {},
   "cell_type": "markdown",
   "metadata": {},
   "source": [
    "\n",
    "Lastly, I did some rearranging of the columns and output the merged data to a CSV.\n"
   ]
  },
  {
   "cell_type": "code",
   "execution_count": 4,
   "metadata": {},
   "outputs": [],
   "source": [
    "\n",
    "fb_merge=fb_merge[['Month','Formatted Date','Breach','Records','Open','High','Low','Close','Volume']]\n",
    "fb_merge.to_csv('Facebook_Merge.csv')\n"
   ]
  }
 ],
 "metadata": {
  "kernelspec": {
   "display_name": "base",
   "language": "python",
   "name": "python3"
  },
  "language_info": {
   "codemirror_mode": {
    "name": "ipython",
    "version": 3
   },
   "file_extension": ".py",
   "mimetype": "text/x-python",
   "name": "python",
   "nbconvert_exporter": "python",
   "pygments_lexer": "ipython3",
   "version": "3.10.9"
  },
  "orig_nbformat": 4,
  "vscode": {
   "interpreter": {
    "hash": "e42634819b8c191a5d07eaf23810ff32516dd8d3875f28ec3e488928fbd3c187"
   }
  }
 },
 "nbformat": 4,
 "nbformat_minor": 2
}
