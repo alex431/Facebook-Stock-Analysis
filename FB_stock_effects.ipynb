{
 "cells": [
  {
   "cell_type": "code",
   "execution_count": 16,
   "metadata": {},
   "outputs": [],
   "source": [
    "import pandas as pd\n",
    "import seaborn as sns\n",
    "import matplotlib.pyplot as plt\n",
    "import statistics as stat"
   ]
  },
  {
   "cell_type": "code",
   "execution_count": 17,
   "metadata": {},
   "outputs": [
    {
     "name": "stdout",
     "output_type": "stream",
     "text": [
      "Index(['Year', 'Records'], dtype='object')\n"
     ]
    }
   ],
   "source": [
    "fb_br=pd.read_csv('Facebook_Data_Breaches_2019.csv',index_col=[0])\n",
    "fb_st=pd.read_csv('Facebook_Stock_Filter_2019.csv', index_col=[0])\n",
    "\n",
    "fb_br.drop(['Method','Organization type','Entity'],axis=1,inplace=True)\n",
    "\n",
    "print(fb_br.columns)\n",
    "\n",
    "fb_merge=pd.merge(fb_br,fb_st,on ='Year', how='left')\n"
   ]
  },
  {
   "cell_type": "code",
   "execution_count": 18,
   "metadata": {},
   "outputs": [
    {
     "name": "stdout",
     "output_type": "stream",
     "text": [
      "Index(['Year', 'Records'], dtype='object') Index(['Date', 'Year', 'Open', 'High', 'Low', 'Close', 'Volume'], dtype='object') Index(['Year', 'Records', 'Date', 'Open', 'High', 'Low', 'Close', 'Volume'], dtype='object')\n",
      "3 252 756\n",
      "     Year    Records        Date        Open        High         Low  \\\n",
      "0    2019  540000000  2019-01-02  128.990005  137.509995  128.559998   \n",
      "1    2019  540000000  2019-01-03  134.690002  137.169998  131.119995   \n",
      "2    2019  540000000  2019-01-04  134.009995  138.000000  133.750000   \n",
      "3    2019  540000000  2019-01-07  137.559998  138.869995  135.910004   \n",
      "4    2019  540000000  2019-01-08  139.889999  143.139999  139.539993   \n",
      "..    ...        ...         ...         ...         ...         ...   \n",
      "751  2019  267000000  2019-12-24  206.300003  206.789993  205.000000   \n",
      "752  2019  267000000  2019-12-26  205.570007  207.820007  205.309998   \n",
      "753  2019  267000000  2019-12-27  208.669998  208.929993  206.589996   \n",
      "754  2019  267000000  2019-12-30  207.860001  207.899994  203.899994   \n",
      "755  2019  267000000  2019-12-31  204.000000  205.559998  203.600006   \n",
      "\n",
      "          Close    Volume  \n",
      "0    135.679993  28146200  \n",
      "1    131.740005  22717900  \n",
      "2    137.949997  29002100  \n",
      "3    138.050003  20089300  \n",
      "4    142.529999  26263800  \n",
      "..          ...       ...  \n",
      "751  205.119995   6046300  \n",
      "752  207.789993   9350700  \n",
      "753  208.100006  10284200  \n",
      "754  204.410004  10524300  \n",
      "755  205.250000   8953500  \n",
      "\n",
      "[756 rows x 8 columns]\n"
     ]
    }
   ],
   "source": [
    "print(fb_br.columns, fb_st.columns, fb_merge.columns)\n",
    "print(fb_br.shape[0], fb_st.shape[0], fb_merge.shape[0])\n",
    "\n",
    "fb_merge.to_csv('Facebook_Merge.csv')\n",
    "\n",
    "print(fb_merge)"
   ]
  }
 ],
 "metadata": {
  "kernelspec": {
   "display_name": "base",
   "language": "python",
   "name": "python3"
  },
  "language_info": {
   "codemirror_mode": {
    "name": "ipython",
    "version": 3
   },
   "file_extension": ".py",
   "mimetype": "text/x-python",
   "name": "python",
   "nbconvert_exporter": "python",
   "pygments_lexer": "ipython3",
   "version": "3.9.13"
  },
  "orig_nbformat": 4,
  "vscode": {
   "interpreter": {
    "hash": "e42634819b8c191a5d07eaf23810ff32516dd8d3875f28ec3e488928fbd3c187"
   }
  }
 },
 "nbformat": 4,
 "nbformat_minor": 2
}
