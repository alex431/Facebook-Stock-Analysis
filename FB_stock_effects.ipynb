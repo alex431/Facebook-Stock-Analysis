{
 "cells": [
  {
   "cell_type": "code",
   "execution_count": 22,
   "metadata": {},
   "outputs": [],
   "source": [
    "import pandas as pd\n",
    "import seaborn as sns\n",
    "import matplotlib.pyplot as plt\n",
    "import statistics as stat\n",
    "import plotly.express as px\n",
    "#import math as ma"
   ]
  },
  {
   "cell_type": "code",
   "execution_count": 23,
   "metadata": {},
   "outputs": [],
   "source": [
    "fb_breach=pd.read_csv('FB_record_averages.csv',index_col=[0])\n",
    "fb_stock=pd.read_csv('FB_stock_averages(2012-2021).csv', index_col=[0])\n",
    "\n",
    "#fb_br.drop(['Method','Organization type','Entity'],axis=1,inplace=True)\n",
    "\n",
    "#print(fb_br.columns)\n",
    "\n",
    "fb_merge=pd.merge(fb_breach,fb_stock,on ='Year', how='right')\n"
   ]
  },
  {
   "cell_type": "code",
   "execution_count": 24,
   "metadata": {},
   "outputs": [
    {
     "name": "stdout",
     "output_type": "stream",
     "text": [
      "      Month        Open        High         Low       Close        Volume\n",
      "Year                                                                     \n",
      "2012      5   33.015556   33.868889   31.057778   31.870000  1.390570e+08\n",
      "2012      6   29.537143   30.232381   28.893333   29.540476  3.180526e+07\n",
      "2012      7   29.143333   29.598095   28.437619   28.880000  2.477094e+07\n",
      "2012      8   20.287391   20.644783   19.768696   20.108261  5.008456e+07\n",
      "2012      9   20.629474   21.089474   20.170526   20.627895  5.571809e+07\n",
      "...     ...         ...         ...         ...         ...           ...\n",
      "2021      6  335.753636  339.281365  332.804090  336.425909  1.567320e+07\n",
      "2021      7  352.984288  356.978571  349.225237  353.377145  1.597194e+07\n",
      "2021      8  361.626823  365.617271  359.100908  363.016821  1.027787e+07\n",
      "2021      9  365.055713  367.679523  360.536189  363.967143  1.610047e+07\n",
      "2021     10  341.609985  345.010010  338.640015  343.010010  1.478951e+07\n",
      "\n",
      "[114 rows x 6 columns]\n",
      "Index(['Month', 'Open', 'High', 'Low', 'Close', 'Volume'], dtype='object')\n"
     ]
    }
   ],
   "source": [
    "print(fb_stock)\n",
    "print(fb_stock.columns)"
   ]
  },
  {
   "cell_type": "code",
   "execution_count": 25,
   "metadata": {},
   "outputs": [
    {
     "name": "stdout",
     "output_type": "stream",
     "text": [
      "          Records\n",
      "Year             \n",
      "2013    6000000.0\n",
      "2018   50000000.0\n",
      "2019  269500000.0\n",
      "Index(['Records'], dtype='object')\n"
     ]
    }
   ],
   "source": [
    "print(fb_breach)\n",
    "print(fb_breach.columns)"
   ]
  },
  {
   "cell_type": "code",
   "execution_count": 26,
   "metadata": {},
   "outputs": [
    {
     "name": "stdout",
     "output_type": "stream",
     "text": [
      "3 114 114\n",
      "Records    float64\n",
      "Month        int64\n",
      "Open       float64\n",
      "High       float64\n",
      "Low        float64\n",
      "Close      float64\n",
      "Volume     float64\n",
      "dtype: object\n",
      "      Records  Month        Open        High         Low       Close  \\\n",
      "Year                                                                   \n",
      "2012      NaN      5   33.015556   33.868889   31.057778   31.870000   \n",
      "2012      NaN      6   29.537143   30.232381   28.893333   29.540476   \n",
      "2012      NaN      7   29.143333   29.598095   28.437619   28.880000   \n",
      "2012      NaN      8   20.287391   20.644783   19.768696   20.108261   \n",
      "2012      NaN      9   20.629474   21.089474   20.170526   20.627895   \n",
      "...       ...    ...         ...         ...         ...         ...   \n",
      "2021      NaN      6  335.753636  339.281365  332.804090  336.425909   \n",
      "2021      NaN      7  352.984288  356.978571  349.225237  353.377145   \n",
      "2021      NaN      8  361.626823  365.617271  359.100908  363.016821   \n",
      "2021      NaN      9  365.055713  367.679523  360.536189  363.967143   \n",
      "2021      NaN     10  341.609985  345.010010  338.640015  343.010010   \n",
      "\n",
      "            Volume  \n",
      "Year                \n",
      "2012  1.390570e+08  \n",
      "2012  3.180526e+07  \n",
      "2012  2.477094e+07  \n",
      "2012  5.008456e+07  \n",
      "2012  5.571809e+07  \n",
      "...            ...  \n",
      "2021  1.567320e+07  \n",
      "2021  1.597194e+07  \n",
      "2021  1.027787e+07  \n",
      "2021  1.610047e+07  \n",
      "2021  1.478951e+07  \n",
      "\n",
      "[114 rows x 7 columns]\n"
     ]
    }
   ],
   "source": [
    "#fb_merge=pd.merge(fb_br,fb_st,on ='Year', how='left')\n",
    "print(fb_breach.shape[0],fb_stock.shape[0],fb_merge.shape[0])\n",
    "print(fb_merge.dtypes)\n",
    "print(fb_merge)"
   ]
  },
  {
   "cell_type": "code",
   "execution_count": 27,
   "metadata": {},
   "outputs": [
    {
     "name": "stdout",
     "output_type": "stream",
     "text": [
      "     Records  Month        Open        High         Low       Close  \\\n",
      "Year                                                                  \n",
      "2012     NaN      5   33.015556   33.868889   31.057778   31.870000   \n",
      "2012     NaN      6   29.537143   30.232381   28.893333   29.540476   \n",
      "2012     NaN      7   29.143333   29.598095   28.437619   28.880000   \n",
      "2012     NaN      8   20.287391   20.644783   19.768696   20.108261   \n",
      "2012     NaN      9   20.629474   21.089474   20.170526   20.627895   \n",
      "...      ...    ...         ...         ...         ...         ...   \n",
      "2021     NaN      6  335.753636  339.281365  332.804090  336.425909   \n",
      "2021     NaN      7  352.984288  356.978571  349.225237  353.377145   \n",
      "2021     NaN      8  361.626823  365.617271  359.100908  363.016821   \n",
      "2021     NaN      9  365.055713  367.679523  360.536189  363.967143   \n",
      "2021     NaN     10  341.609985  345.010010  338.640015  343.010010   \n",
      "\n",
      "            Volume  Breach  \n",
      "Year                        \n",
      "2012  1.390570e+08       0  \n",
      "2012  3.180526e+07       0  \n",
      "2012  2.477094e+07       0  \n",
      "2012  5.008456e+07       0  \n",
      "2012  5.571809e+07       0  \n",
      "...            ...     ...  \n",
      "2021  1.567320e+07       0  \n",
      "2021  1.597194e+07       0  \n",
      "2021  1.027787e+07       0  \n",
      "2021  1.610047e+07       0  \n",
      "2021  1.478951e+07       0  \n",
      "\n",
      "[114 rows x 8 columns]\n"
     ]
    }
   ],
   "source": [
    "\n",
    "#fb_merge[\"Breach\"]=[\n",
    "fb_merge['Records'].fillna('NaN', inplace= True) \n",
    "#fb_merge[\"Breach\"]=fb_merge[\"Records\"].replace(\"NaN\",0)\n",
    "\n",
    "fb_merge['Breach'] = fb_merge['Records'].apply(lambda row: 0 if row == \"NaN\" else 1)\n",
    "\n",
    "#for index, row in fb_merge.iterrows():\n",
    "#     #print(row[\"Breach\"])\n",
    "#     if row[\"Breach\"] > 0:\n",
    "#          row[\"Breach\"]=1\n",
    "          #print(row[\"Breach\"])\n",
    "          #fb_merge.assign(Breach=['Breach'] * 0 + 1)\n",
    "#          fb_merge.assign(Breach=lambda x: x.Records * 0 + 1)\n",
    " #print(row[\"Breach\"])\n",
    "\n",
    "\n",
    "\n",
    "\n",
    "#if fb_merge[\"Breach\"].any() > 0:\n",
    "#    fb_merge[\"Breach\"].replace( ' ',1)\n",
    "\n",
    "\n",
    "\n",
    "#fb_merge[\"Breach\"].fillna(0,inplace=True)\n",
    "\n",
    "#print(fb_merge.columns)\n",
    "\n",
    "#for i in fb_merge.iterrows():\n",
    "#    if fb_merge[\"Breach\"].isnull():\n",
    "#        fb_merge[\"Breach\"].fillna(0,inplace= True)\n",
    "#        print(i)\n",
    "\n",
    "\n",
    "\n",
    "#fb_null=ma.isnan(fb_merge[\"Records\"])\n",
    "#for i in fb_merge[\"Breach\"]:\n",
    "#    if fb_merge[\"Breach\"].isnull():\n",
    " #       fb_merge[\"Breach\"].fillna(0,inplace= True)\n",
    "#        print(fb_merge[\"Breach\"])\n",
    "    \n",
    "fb_merge.to_csv('Facebook_Merge.csv')\n",
    "print(fb_merge)"
   ]
  },
  {
   "cell_type": "code",
   "execution_count": 29,
   "metadata": {},
   "outputs": [
    {
     "data": {
      "application/vnd.plotly.v1+json": {
       "config": {
        "plotlyServerURL": "https://plot.ly"
       },
       "data": [
        {
         "hovertemplate": "x=%{x}<br>y=%{y}<extra></extra>",
         "legendgroup": "",
         "line": {
          "color": "#636efa",
          "dash": "solid"
         },
         "marker": {
          "symbol": "circle"
         },
         "mode": "lines",
         "name": "",
         "orientation": "v",
         "showlegend": false,
         "type": "scatter",
         "x": [
          2012,
          2012,
          2012,
          2012,
          2012,
          2012,
          2012,
          2012,
          2013,
          2013,
          2013,
          2013,
          2013,
          2013,
          2013,
          2013,
          2013,
          2013,
          2013,
          2013,
          2014,
          2014,
          2014,
          2014,
          2014,
          2014,
          2014,
          2014,
          2014,
          2014,
          2014,
          2014,
          2015,
          2015,
          2015,
          2015,
          2015,
          2015,
          2015,
          2015,
          2015,
          2015,
          2015,
          2015,
          2016,
          2016,
          2016,
          2016,
          2016,
          2016,
          2016,
          2016,
          2016,
          2016,
          2016,
          2016,
          2017,
          2017,
          2017,
          2017,
          2017,
          2017,
          2017,
          2017,
          2017,
          2017,
          2017,
          2017,
          2018,
          2018,
          2018,
          2018,
          2018,
          2018,
          2018,
          2018,
          2018,
          2018,
          2018,
          2018,
          2019,
          2019,
          2019,
          2019,
          2019,
          2019,
          2019,
          2019,
          2019,
          2019,
          2019,
          2019,
          2020,
          2020,
          2020,
          2020,
          2020,
          2020,
          2020,
          2020,
          2020,
          2020,
          2020,
          2020,
          2021,
          2021,
          2021,
          2021,
          2021,
          2021,
          2021,
          2021,
          2021,
          2021
         ],
         "xaxis": "x",
         "y": [
          139057022.2222222,
          31805261.904761903,
          24770938.095238097,
          50084560.86956522,
          55718089.47368421,
          52425633.333333336,
          72737628.57142857,
          59591610,
          79802461.90476191,
          50402094.7368421,
          36359025,
          33568600,
          44640672.72727273,
          39416575,
          65364413.63636363,
          61136095.45454545,
          79154190,
          88375434.7826087,
          67865595,
          72263485.71428572,
          61653085.71428572,
          58461794.7368421,
          59782857.14285714,
          89712623.8095238,
          53340738.0952381,
          41113800,
          46743863.63636363,
          28131600,
          34333133.333333336,
          47114913.04347826,
          25840278.94736842,
          24296686.363636363,
          27310535,
          25007826.315789472,
          26152268.181818184,
          25815457.14285714,
          21093535,
          24442740.90909091,
          35944590.90909091,
          33804028.571428575,
          30257133.33333333,
          25981381.818181816,
          27361640,
          20013822.727272727,
          41721531.578947365,
          43707625,
          23702677.272727277,
          35314942.85714286,
          21930676.19047619,
          20494368.181818184,
          23505430,
          15898734.782608695,
          17929433.333333332,
          14918304.76190476,
          30669185.714285716,
          19463257.14285714,
          18947945,
          20247394.736842107,
          14873852.173913045,
          14504542.10526316,
          18344859.09090909,
          18852595.454545453,
          20995380,
          13200991.304347826,
          15240915,
          14461209.090909092,
          16714223.80952381,
          15854790,
          23602652.38095238,
          27171136.842105266,
          47438176.190476194,
          35717747.61904762,
          18233822.727272727,
          18441219.04761905,
          30810985.714285716,
          23862291.304347824,
          26340463.157894734,
          27062882.60869565,
          24673890.47619048,
          29409800,
          25121328.57142857,
          15907536.842105264,
          18473147.61904762,
          18189776.19047619,
          13037340.909090908,
          21321430,
          15955495.454545457,
          13394977.272727272,
          13226925,
          14182921.739130436,
          12915195,
          13155100,
          16538790.476190476,
          16713015.789473685,
          29521259.09090909,
          25777838.095238097,
          25473825,
          24911081.818181816,
          23527259.09090909,
          27344719.04761905,
          23767395.23809524,
          20640981.818181816,
          17838580,
          16540954.545454543,
          23822794.736842107,
          16725010.52631579,
          21626813.04347826,
          20059890.47619048,
          17671185,
          15673200,
          15971942.857142856,
          10277868.181818182,
          16100466.666666666,
          14789507
         ],
         "yaxis": "y"
        }
       ],
       "layout": {
        "legend": {
         "tracegroupgap": 0
        },
        "margin": {
         "t": 60
        },
        "template": {
         "data": {
          "bar": [
           {
            "error_x": {
             "color": "#2a3f5f"
            },
            "error_y": {
             "color": "#2a3f5f"
            },
            "marker": {
             "line": {
              "color": "#E5ECF6",
              "width": 0.5
             },
             "pattern": {
              "fillmode": "overlay",
              "size": 10,
              "solidity": 0.2
             }
            },
            "type": "bar"
           }
          ],
          "barpolar": [
           {
            "marker": {
             "line": {
              "color": "#E5ECF6",
              "width": 0.5
             },
             "pattern": {
              "fillmode": "overlay",
              "size": 10,
              "solidity": 0.2
             }
            },
            "type": "barpolar"
           }
          ],
          "carpet": [
           {
            "aaxis": {
             "endlinecolor": "#2a3f5f",
             "gridcolor": "white",
             "linecolor": "white",
             "minorgridcolor": "white",
             "startlinecolor": "#2a3f5f"
            },
            "baxis": {
             "endlinecolor": "#2a3f5f",
             "gridcolor": "white",
             "linecolor": "white",
             "minorgridcolor": "white",
             "startlinecolor": "#2a3f5f"
            },
            "type": "carpet"
           }
          ],
          "choropleth": [
           {
            "colorbar": {
             "outlinewidth": 0,
             "ticks": ""
            },
            "type": "choropleth"
           }
          ],
          "contour": [
           {
            "colorbar": {
             "outlinewidth": 0,
             "ticks": ""
            },
            "colorscale": [
             [
              0,
              "#0d0887"
             ],
             [
              0.1111111111111111,
              "#46039f"
             ],
             [
              0.2222222222222222,
              "#7201a8"
             ],
             [
              0.3333333333333333,
              "#9c179e"
             ],
             [
              0.4444444444444444,
              "#bd3786"
             ],
             [
              0.5555555555555556,
              "#d8576b"
             ],
             [
              0.6666666666666666,
              "#ed7953"
             ],
             [
              0.7777777777777778,
              "#fb9f3a"
             ],
             [
              0.8888888888888888,
              "#fdca26"
             ],
             [
              1,
              "#f0f921"
             ]
            ],
            "type": "contour"
           }
          ],
          "contourcarpet": [
           {
            "colorbar": {
             "outlinewidth": 0,
             "ticks": ""
            },
            "type": "contourcarpet"
           }
          ],
          "heatmap": [
           {
            "colorbar": {
             "outlinewidth": 0,
             "ticks": ""
            },
            "colorscale": [
             [
              0,
              "#0d0887"
             ],
             [
              0.1111111111111111,
              "#46039f"
             ],
             [
              0.2222222222222222,
              "#7201a8"
             ],
             [
              0.3333333333333333,
              "#9c179e"
             ],
             [
              0.4444444444444444,
              "#bd3786"
             ],
             [
              0.5555555555555556,
              "#d8576b"
             ],
             [
              0.6666666666666666,
              "#ed7953"
             ],
             [
              0.7777777777777778,
              "#fb9f3a"
             ],
             [
              0.8888888888888888,
              "#fdca26"
             ],
             [
              1,
              "#f0f921"
             ]
            ],
            "type": "heatmap"
           }
          ],
          "heatmapgl": [
           {
            "colorbar": {
             "outlinewidth": 0,
             "ticks": ""
            },
            "colorscale": [
             [
              0,
              "#0d0887"
             ],
             [
              0.1111111111111111,
              "#46039f"
             ],
             [
              0.2222222222222222,
              "#7201a8"
             ],
             [
              0.3333333333333333,
              "#9c179e"
             ],
             [
              0.4444444444444444,
              "#bd3786"
             ],
             [
              0.5555555555555556,
              "#d8576b"
             ],
             [
              0.6666666666666666,
              "#ed7953"
             ],
             [
              0.7777777777777778,
              "#fb9f3a"
             ],
             [
              0.8888888888888888,
              "#fdca26"
             ],
             [
              1,
              "#f0f921"
             ]
            ],
            "type": "heatmapgl"
           }
          ],
          "histogram": [
           {
            "marker": {
             "pattern": {
              "fillmode": "overlay",
              "size": 10,
              "solidity": 0.2
             }
            },
            "type": "histogram"
           }
          ],
          "histogram2d": [
           {
            "colorbar": {
             "outlinewidth": 0,
             "ticks": ""
            },
            "colorscale": [
             [
              0,
              "#0d0887"
             ],
             [
              0.1111111111111111,
              "#46039f"
             ],
             [
              0.2222222222222222,
              "#7201a8"
             ],
             [
              0.3333333333333333,
              "#9c179e"
             ],
             [
              0.4444444444444444,
              "#bd3786"
             ],
             [
              0.5555555555555556,
              "#d8576b"
             ],
             [
              0.6666666666666666,
              "#ed7953"
             ],
             [
              0.7777777777777778,
              "#fb9f3a"
             ],
             [
              0.8888888888888888,
              "#fdca26"
             ],
             [
              1,
              "#f0f921"
             ]
            ],
            "type": "histogram2d"
           }
          ],
          "histogram2dcontour": [
           {
            "colorbar": {
             "outlinewidth": 0,
             "ticks": ""
            },
            "colorscale": [
             [
              0,
              "#0d0887"
             ],
             [
              0.1111111111111111,
              "#46039f"
             ],
             [
              0.2222222222222222,
              "#7201a8"
             ],
             [
              0.3333333333333333,
              "#9c179e"
             ],
             [
              0.4444444444444444,
              "#bd3786"
             ],
             [
              0.5555555555555556,
              "#d8576b"
             ],
             [
              0.6666666666666666,
              "#ed7953"
             ],
             [
              0.7777777777777778,
              "#fb9f3a"
             ],
             [
              0.8888888888888888,
              "#fdca26"
             ],
             [
              1,
              "#f0f921"
             ]
            ],
            "type": "histogram2dcontour"
           }
          ],
          "mesh3d": [
           {
            "colorbar": {
             "outlinewidth": 0,
             "ticks": ""
            },
            "type": "mesh3d"
           }
          ],
          "parcoords": [
           {
            "line": {
             "colorbar": {
              "outlinewidth": 0,
              "ticks": ""
             }
            },
            "type": "parcoords"
           }
          ],
          "pie": [
           {
            "automargin": true,
            "type": "pie"
           }
          ],
          "scatter": [
           {
            "fillpattern": {
             "fillmode": "overlay",
             "size": 10,
             "solidity": 0.2
            },
            "type": "scatter"
           }
          ],
          "scatter3d": [
           {
            "line": {
             "colorbar": {
              "outlinewidth": 0,
              "ticks": ""
             }
            },
            "marker": {
             "colorbar": {
              "outlinewidth": 0,
              "ticks": ""
             }
            },
            "type": "scatter3d"
           }
          ],
          "scattercarpet": [
           {
            "marker": {
             "colorbar": {
              "outlinewidth": 0,
              "ticks": ""
             }
            },
            "type": "scattercarpet"
           }
          ],
          "scattergeo": [
           {
            "marker": {
             "colorbar": {
              "outlinewidth": 0,
              "ticks": ""
             }
            },
            "type": "scattergeo"
           }
          ],
          "scattergl": [
           {
            "marker": {
             "colorbar": {
              "outlinewidth": 0,
              "ticks": ""
             }
            },
            "type": "scattergl"
           }
          ],
          "scattermapbox": [
           {
            "marker": {
             "colorbar": {
              "outlinewidth": 0,
              "ticks": ""
             }
            },
            "type": "scattermapbox"
           }
          ],
          "scatterpolar": [
           {
            "marker": {
             "colorbar": {
              "outlinewidth": 0,
              "ticks": ""
             }
            },
            "type": "scatterpolar"
           }
          ],
          "scatterpolargl": [
           {
            "marker": {
             "colorbar": {
              "outlinewidth": 0,
              "ticks": ""
             }
            },
            "type": "scatterpolargl"
           }
          ],
          "scatterternary": [
           {
            "marker": {
             "colorbar": {
              "outlinewidth": 0,
              "ticks": ""
             }
            },
            "type": "scatterternary"
           }
          ],
          "surface": [
           {
            "colorbar": {
             "outlinewidth": 0,
             "ticks": ""
            },
            "colorscale": [
             [
              0,
              "#0d0887"
             ],
             [
              0.1111111111111111,
              "#46039f"
             ],
             [
              0.2222222222222222,
              "#7201a8"
             ],
             [
              0.3333333333333333,
              "#9c179e"
             ],
             [
              0.4444444444444444,
              "#bd3786"
             ],
             [
              0.5555555555555556,
              "#d8576b"
             ],
             [
              0.6666666666666666,
              "#ed7953"
             ],
             [
              0.7777777777777778,
              "#fb9f3a"
             ],
             [
              0.8888888888888888,
              "#fdca26"
             ],
             [
              1,
              "#f0f921"
             ]
            ],
            "type": "surface"
           }
          ],
          "table": [
           {
            "cells": {
             "fill": {
              "color": "#EBF0F8"
             },
             "line": {
              "color": "white"
             }
            },
            "header": {
             "fill": {
              "color": "#C8D4E3"
             },
             "line": {
              "color": "white"
             }
            },
            "type": "table"
           }
          ]
         },
         "layout": {
          "annotationdefaults": {
           "arrowcolor": "#2a3f5f",
           "arrowhead": 0,
           "arrowwidth": 1
          },
          "autotypenumbers": "strict",
          "coloraxis": {
           "colorbar": {
            "outlinewidth": 0,
            "ticks": ""
           }
          },
          "colorscale": {
           "diverging": [
            [
             0,
             "#8e0152"
            ],
            [
             0.1,
             "#c51b7d"
            ],
            [
             0.2,
             "#de77ae"
            ],
            [
             0.3,
             "#f1b6da"
            ],
            [
             0.4,
             "#fde0ef"
            ],
            [
             0.5,
             "#f7f7f7"
            ],
            [
             0.6,
             "#e6f5d0"
            ],
            [
             0.7,
             "#b8e186"
            ],
            [
             0.8,
             "#7fbc41"
            ],
            [
             0.9,
             "#4d9221"
            ],
            [
             1,
             "#276419"
            ]
           ],
           "sequential": [
            [
             0,
             "#0d0887"
            ],
            [
             0.1111111111111111,
             "#46039f"
            ],
            [
             0.2222222222222222,
             "#7201a8"
            ],
            [
             0.3333333333333333,
             "#9c179e"
            ],
            [
             0.4444444444444444,
             "#bd3786"
            ],
            [
             0.5555555555555556,
             "#d8576b"
            ],
            [
             0.6666666666666666,
             "#ed7953"
            ],
            [
             0.7777777777777778,
             "#fb9f3a"
            ],
            [
             0.8888888888888888,
             "#fdca26"
            ],
            [
             1,
             "#f0f921"
            ]
           ],
           "sequentialminus": [
            [
             0,
             "#0d0887"
            ],
            [
             0.1111111111111111,
             "#46039f"
            ],
            [
             0.2222222222222222,
             "#7201a8"
            ],
            [
             0.3333333333333333,
             "#9c179e"
            ],
            [
             0.4444444444444444,
             "#bd3786"
            ],
            [
             0.5555555555555556,
             "#d8576b"
            ],
            [
             0.6666666666666666,
             "#ed7953"
            ],
            [
             0.7777777777777778,
             "#fb9f3a"
            ],
            [
             0.8888888888888888,
             "#fdca26"
            ],
            [
             1,
             "#f0f921"
            ]
           ]
          },
          "colorway": [
           "#636efa",
           "#EF553B",
           "#00cc96",
           "#ab63fa",
           "#FFA15A",
           "#19d3f3",
           "#FF6692",
           "#B6E880",
           "#FF97FF",
           "#FECB52"
          ],
          "font": {
           "color": "#2a3f5f"
          },
          "geo": {
           "bgcolor": "white",
           "lakecolor": "white",
           "landcolor": "#E5ECF6",
           "showlakes": true,
           "showland": true,
           "subunitcolor": "white"
          },
          "hoverlabel": {
           "align": "left"
          },
          "hovermode": "closest",
          "mapbox": {
           "style": "light"
          },
          "paper_bgcolor": "white",
          "plot_bgcolor": "#E5ECF6",
          "polar": {
           "angularaxis": {
            "gridcolor": "white",
            "linecolor": "white",
            "ticks": ""
           },
           "bgcolor": "#E5ECF6",
           "radialaxis": {
            "gridcolor": "white",
            "linecolor": "white",
            "ticks": ""
           }
          },
          "scene": {
           "xaxis": {
            "backgroundcolor": "#E5ECF6",
            "gridcolor": "white",
            "gridwidth": 2,
            "linecolor": "white",
            "showbackground": true,
            "ticks": "",
            "zerolinecolor": "white"
           },
           "yaxis": {
            "backgroundcolor": "#E5ECF6",
            "gridcolor": "white",
            "gridwidth": 2,
            "linecolor": "white",
            "showbackground": true,
            "ticks": "",
            "zerolinecolor": "white"
           },
           "zaxis": {
            "backgroundcolor": "#E5ECF6",
            "gridcolor": "white",
            "gridwidth": 2,
            "linecolor": "white",
            "showbackground": true,
            "ticks": "",
            "zerolinecolor": "white"
           }
          },
          "shapedefaults": {
           "line": {
            "color": "#2a3f5f"
           }
          },
          "ternary": {
           "aaxis": {
            "gridcolor": "white",
            "linecolor": "white",
            "ticks": ""
           },
           "baxis": {
            "gridcolor": "white",
            "linecolor": "white",
            "ticks": ""
           },
           "bgcolor": "#E5ECF6",
           "caxis": {
            "gridcolor": "white",
            "linecolor": "white",
            "ticks": ""
           }
          },
          "title": {
           "x": 0.05
          },
          "xaxis": {
           "automargin": true,
           "gridcolor": "white",
           "linecolor": "white",
           "ticks": "",
           "title": {
            "standoff": 15
           },
           "zerolinecolor": "white",
           "zerolinewidth": 2
          },
          "yaxis": {
           "automargin": true,
           "gridcolor": "white",
           "linecolor": "white",
           "ticks": "",
           "title": {
            "standoff": 15
           },
           "zerolinecolor": "white",
           "zerolinewidth": 2
          }
         }
        },
        "xaxis": {
         "anchor": "y",
         "domain": [
          0,
          1
         ],
         "title": {
          "text": "x"
         }
        },
        "yaxis": {
         "anchor": "x",
         "domain": [
          0,
          1
         ],
         "title": {
          "text": "y"
         }
        }
       }
      }
     },
     "metadata": {},
     "output_type": "display_data"
    }
   ],
   "source": [
    "#sns.lineplot(x=fb_merge[\"Month\"],y=fb_merge[\"Volume\"])\n",
    "fig = px.line(x = fb_merge.index,y=fb_merge[\"Volume\"])\n",
    "fig.show()"
   ]
  }
 ],
 "metadata": {
  "kernelspec": {
   "display_name": "base",
   "language": "python",
   "name": "python3"
  },
  "language_info": {
   "codemirror_mode": {
    "name": "ipython",
    "version": 3
   },
   "file_extension": ".py",
   "mimetype": "text/x-python",
   "name": "python",
   "nbconvert_exporter": "python",
   "pygments_lexer": "ipython3",
   "version": "3.10.9"
  },
  "orig_nbformat": 4,
  "vscode": {
   "interpreter": {
    "hash": "e42634819b8c191a5d07eaf23810ff32516dd8d3875f28ec3e488928fbd3c187"
   }
  }
 },
 "nbformat": 4,
 "nbformat_minor": 2
}
