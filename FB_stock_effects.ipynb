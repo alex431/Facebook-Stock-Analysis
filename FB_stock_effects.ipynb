{
 "cells": [
  {
   "cell_type": "code",
   "execution_count": 15,
   "metadata": {},
   "outputs": [],
   "source": [
    "import pandas as pd\n",
    "import seaborn as sns\n",
    "import matplotlib.pyplot as plt\n",
    "import statistics as stat\n",
    "import plotly.express as px\n",
    "#import math as ma"
   ]
  },
  {
   "cell_type": "code",
   "execution_count": 20,
   "metadata": {},
   "outputs": [],
   "source": [
    "fb_breach=pd.read_csv('FB_record_averages.csv',index_col=[0])\n",
    "fb_stock=pd.read_csv('FB_stock_averages(2012-2021).csv', index_col=[1])\n",
    "\n",
    "#fb_br.drop(['Method','Organization type','Entity'],axis=1,inplace=True)\n",
    "\n",
    "#print(fb_br.columns)\n",
    "\n",
    "fb_merge=pd.merge(fb_breach,fb_stock,on ='Year', how='right')\n"
   ]
  },
  {
   "cell_type": "code",
   "execution_count": 21,
   "metadata": {},
   "outputs": [
    {
     "name": "stdout",
     "output_type": "stream",
     "text": [
      "     Formatted Date  Month        Open        High         Low       Close  \\\n",
      "Year                                                                         \n",
      "2012        2012-05      5   33.015556   33.868889   31.057778   31.870000   \n",
      "2012        2012-06      6   29.537143   30.232381   28.893333   29.540476   \n",
      "2012        2012-07      7   29.143333   29.598095   28.437619   28.880000   \n",
      "2012        2012-08      8   20.287391   20.644783   19.768696   20.108261   \n",
      "2012        2012-09      9   20.629474   21.089474   20.170526   20.627895   \n",
      "...             ...    ...         ...         ...         ...         ...   \n",
      "2021        2021-06      6  335.753636  339.281365  332.804090  336.425909   \n",
      "2021        2021-07      7  352.984288  356.978571  349.225237  353.377145   \n",
      "2021        2021-08      8  361.626823  365.617271  359.100908  363.016821   \n",
      "2021        2021-09      9  365.055713  367.679523  360.536189  363.967143   \n",
      "2021        2021-10     10  341.609985  345.010010  338.640015  343.010010   \n",
      "\n",
      "            Volume  \n",
      "Year                \n",
      "2012  1.390570e+08  \n",
      "2012  3.180526e+07  \n",
      "2012  2.477094e+07  \n",
      "2012  5.008456e+07  \n",
      "2012  5.571809e+07  \n",
      "...            ...  \n",
      "2021  1.567320e+07  \n",
      "2021  1.597194e+07  \n",
      "2021  1.027787e+07  \n",
      "2021  1.610047e+07  \n",
      "2021  1.478951e+07  \n",
      "\n",
      "[114 rows x 7 columns]\n",
      "Index(['Formatted Date', 'Month', 'Open', 'High', 'Low', 'Close', 'Volume'], dtype='object')\n"
     ]
    }
   ],
   "source": [
    "print(fb_stock)\n",
    "print(fb_stock.columns)"
   ]
  },
  {
   "cell_type": "code",
   "execution_count": 18,
   "metadata": {},
   "outputs": [
    {
     "name": "stdout",
     "output_type": "stream",
     "text": [
      "          Records\n",
      "Year             \n",
      "2013    6000000.0\n",
      "2018   50000000.0\n",
      "2019  269500000.0\n",
      "Index(['Records'], dtype='object')\n"
     ]
    }
   ],
   "source": [
    "print(fb_breach)\n",
    "print(fb_breach.columns)"
   ]
  },
  {
   "cell_type": "code",
   "execution_count": 19,
   "metadata": {},
   "outputs": [
    {
     "name": "stdout",
     "output_type": "stream",
     "text": [
      "3 114 114\n",
      "Records           float64\n",
      "Formatted Date     object\n",
      "Month               int64\n",
      "Open              float64\n",
      "High              float64\n",
      "Low               float64\n",
      "Close             float64\n",
      "Volume            float64\n",
      "dtype: object\n",
      "      Records Formatted Date  Month        Open        High         Low  \\\n",
      "Year                                                                      \n",
      "2012      NaN        2012-05      5   33.015556   33.868889   31.057778   \n",
      "2012      NaN        2012-06      6   29.537143   30.232381   28.893333   \n",
      "2012      NaN        2012-07      7   29.143333   29.598095   28.437619   \n",
      "2012      NaN        2012-08      8   20.287391   20.644783   19.768696   \n",
      "2012      NaN        2012-09      9   20.629474   21.089474   20.170526   \n",
      "...       ...            ...    ...         ...         ...         ...   \n",
      "2021      NaN        2021-06      6  335.753636  339.281365  332.804090   \n",
      "2021      NaN        2021-07      7  352.984288  356.978571  349.225237   \n",
      "2021      NaN        2021-08      8  361.626823  365.617271  359.100908   \n",
      "2021      NaN        2021-09      9  365.055713  367.679523  360.536189   \n",
      "2021      NaN        2021-10     10  341.609985  345.010010  338.640015   \n",
      "\n",
      "           Close        Volume  \n",
      "Year                            \n",
      "2012   31.870000  1.390570e+08  \n",
      "2012   29.540476  3.180526e+07  \n",
      "2012   28.880000  2.477094e+07  \n",
      "2012   20.108261  5.008456e+07  \n",
      "2012   20.627895  5.571809e+07  \n",
      "...          ...           ...  \n",
      "2021  336.425909  1.567320e+07  \n",
      "2021  353.377145  1.597194e+07  \n",
      "2021  363.016821  1.027787e+07  \n",
      "2021  363.967143  1.610047e+07  \n",
      "2021  343.010010  1.478951e+07  \n",
      "\n",
      "[114 rows x 8 columns]\n"
     ]
    }
   ],
   "source": [
    "#fb_merge=pd.merge(fb_br,fb_st,on ='Year', how='left')\n",
    "print(fb_breach.shape[0],fb_stock.shape[0],fb_merge.shape[0])\n",
    "print(fb_merge.dtypes)\n",
    "print(fb_merge)"
   ]
  },
  {
   "cell_type": "code",
   "execution_count": 25,
   "metadata": {},
   "outputs": [
    {
     "name": "stdout",
     "output_type": "stream",
     "text": [
      "      Month Formatted Date  Breach Records        Open        High  \\\n",
      "Year                                                                 \n",
      "2012      5        2012-05       0     NaN   33.015556   33.868889   \n",
      "2012      6        2012-06       0     NaN   29.537143   30.232381   \n",
      "2012      7        2012-07       0     NaN   29.143333   29.598095   \n",
      "2012      8        2012-08       0     NaN   20.287391   20.644783   \n",
      "2012      9        2012-09       0     NaN   20.629474   21.089474   \n",
      "...     ...            ...     ...     ...         ...         ...   \n",
      "2021      6        2021-06       0     NaN  335.753636  339.281365   \n",
      "2021      7        2021-07       0     NaN  352.984288  356.978571   \n",
      "2021      8        2021-08       0     NaN  361.626823  365.617271   \n",
      "2021      9        2021-09       0     NaN  365.055713  367.679523   \n",
      "2021     10        2021-10       0     NaN  341.609985  345.010010   \n",
      "\n",
      "             Low       Close        Volume  \n",
      "Year                                        \n",
      "2012   31.057778   31.870000  1.390570e+08  \n",
      "2012   28.893333   29.540476  3.180526e+07  \n",
      "2012   28.437619   28.880000  2.477094e+07  \n",
      "2012   19.768696   20.108261  5.008456e+07  \n",
      "2012   20.170526   20.627895  5.571809e+07  \n",
      "...          ...         ...           ...  \n",
      "2021  332.804090  336.425909  1.567320e+07  \n",
      "2021  349.225237  353.377145  1.597194e+07  \n",
      "2021  359.100908  363.016821  1.027787e+07  \n",
      "2021  360.536189  363.967143  1.610047e+07  \n",
      "2021  338.640015  343.010010  1.478951e+07  \n",
      "\n",
      "[114 rows x 9 columns]\n"
     ]
    }
   ],
   "source": [
    "\n",
    "#fb_merge[\"Breach\"]=[\n",
    "fb_merge['Records'].fillna('NaN', inplace= True) \n",
    "#fb_merge[\"Breach\"]=fb_merge[\"Records\"].replace(\"NaN\",0)\n",
    "\n",
    "fb_merge['Breach'] = fb_merge['Records'].apply(lambda row: 0 if row == \"NaN\" else 1)\n",
    "\n",
    "#for index, row in fb_merge.iterrows():\n",
    "#     #print(row[\"Breach\"])\n",
    "#     if row[\"Breach\"] > 0:\n",
    "#          row[\"Breach\"]=1\n",
    "          #print(row[\"Breach\"])\n",
    "          #fb_merge.assign(Breach=['Breach'] * 0 + 1)\n",
    "#          fb_merge.assign(Breach=lambda x: x.Records * 0 + 1)\n",
    " #print(row[\"Breach\"])\n",
    "\n",
    "\n",
    "\n",
    "\n",
    "#if fb_merge[\"Breach\"].any() > 0:\n",
    "#    fb_merge[\"Breach\"].replace( ' ',1)\n",
    "\n",
    "\n",
    "\n",
    "#fb_merge[\"Breach\"].fillna(0,inplace=True)\n",
    "\n",
    "#print(fb_merge.columns)\n",
    "\n",
    "#for i in fb_merge.iterrows():\n",
    "#    if fb_merge[\"Breach\"].isnull():\n",
    "#        fb_merge[\"Breach\"].fillna(0,inplace= True)\n",
    "#        print(i)\n",
    "\n",
    "\n",
    "\n",
    "#fb_null=ma.isnan(fb_merge[\"Records\"])\n",
    "#for i in fb_merge[\"Breach\"]:\n",
    "#    if fb_merge[\"Breach\"].isnull():\n",
    " #       fb_merge[\"Breach\"].fillna(0,inplace= True)\n",
    "#        print(fb_merge[\"Breach\"])\n",
    "    \n",
    "fb_merge=fb_merge[['Month','Formatted Date','Breach','Records','Open','High','Low','Close','Volume']]\n",
    "fb_merge.to_csv('Facebook_Merge.csv')\n",
    "print(fb_merge)"
   ]
  },
  {
   "cell_type": "code",
   "execution_count": null,
   "metadata": {},
   "outputs": [],
   "source": [
    "#sns.lineplot(x=fb_merge[\"Month\"],y=fb_merge[\"Volume\"])\n",
    "fig = px.line(x = fb_merge.index,y=fb_merge[\"Volume\"])\n",
    "fig.show()"
   ]
  }
 ],
 "metadata": {
  "kernelspec": {
   "display_name": "base",
   "language": "python",
   "name": "python3"
  },
  "language_info": {
   "codemirror_mode": {
    "name": "ipython",
    "version": 3
   },
   "file_extension": ".py",
   "mimetype": "text/x-python",
   "name": "python",
   "nbconvert_exporter": "python",
   "pygments_lexer": "ipython3",
   "version": "3.10.9"
  },
  "orig_nbformat": 4,
  "vscode": {
   "interpreter": {
    "hash": "e42634819b8c191a5d07eaf23810ff32516dd8d3875f28ec3e488928fbd3c187"
   }
  }
 },
 "nbformat": 4,
 "nbformat_minor": 2
}
