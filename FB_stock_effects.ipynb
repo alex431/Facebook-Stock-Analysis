{
 "cells": [
  {
   "cell_type": "code",
   "execution_count": 5,
   "metadata": {},
   "outputs": [],
   "source": [
    "import pandas as pd\n",
    "import seaborn as sns\n",
    "import matplotlib.pyplot as plt\n",
    "import statistics as stat"
   ]
  },
  {
   "cell_type": "code",
   "execution_count": 6,
   "metadata": {},
   "outputs": [],
   "source": [
    "fb_breach=pd.read_csv('FB_average_records.csv',index_col=[0])\n",
    "fb_stock=pd.read_csv('FB_annual_averages(2012-2021).csv', index_col=[0])\n",
    "\n",
    "#fb_br.drop(['Method','Organization type','Entity'],axis=1,inplace=True)\n",
    "\n",
    "#print(fb_br.columns)\n",
    "\n",
    "fb_merge=pd.merge(fb_breach,fb_stock,on ='Year', how='right')\n"
   ]
  },
  {
   "cell_type": "code",
   "execution_count": 7,
   "metadata": {},
   "outputs": [
    {
     "name": "stdout",
     "output_type": "stream",
     "text": [
      "            Open        High         Low       Close        Volume\n",
      "Year                                                              \n",
      "2012   24.799613   25.300903   24.195871   24.673097  5.464815e+07\n",
      "2013   35.476429   36.045040   34.930159   35.481151  6.009199e+07\n",
      "2014   68.763968   69.639524   67.830199   68.762341  4.753055e+07\n",
      "2015   88.749405   89.683373   87.762778   88.772857  2.695888e+07\n",
      "2016  117.081071  118.091706  115.865873  117.035873  2.547507e+07\n",
      "2017  156.481076  157.557530  155.347012  156.576175  1.678995e+07\n",
      "2018  171.472948  173.613347  169.303148  171.510956  2.765860e+07\n",
      "2019  181.566547  183.482539  179.648889  181.637500  1.620627e+07\n",
      "2020  234.348696  237.939922  230.790040  234.550870  2.244630e+07\n",
      "2021  317.405238  321.153492  313.943755  317.614762  1.746952e+07\n"
     ]
    }
   ],
   "source": [
    "print(fb_stock)"
   ]
  },
  {
   "cell_type": "code",
   "execution_count": 8,
   "metadata": {},
   "outputs": [
    {
     "name": "stdout",
     "output_type": "stream",
     "text": [
      "          Records\n",
      "Year             \n",
      "2013    6000000.0\n",
      "2018   50000000.0\n",
      "2019  269500000.0\n"
     ]
    }
   ],
   "source": [
    "print(fb_breach)"
   ]
  },
  {
   "cell_type": "code",
   "execution_count": 9,
   "metadata": {},
   "outputs": [
    {
     "name": "stdout",
     "output_type": "stream",
     "text": [
      "3 10 10\n",
      "          Records        Open        High         Low       Close  \\\n",
      "Year                                                                \n",
      "2012          NaN   24.799613   25.300903   24.195871   24.673097   \n",
      "2013    6000000.0   35.476429   36.045040   34.930159   35.481151   \n",
      "2014          NaN   68.763968   69.639524   67.830199   68.762341   \n",
      "2015          NaN   88.749405   89.683373   87.762778   88.772857   \n",
      "2016          NaN  117.081071  118.091706  115.865873  117.035873   \n",
      "2017          NaN  156.481076  157.557530  155.347012  156.576175   \n",
      "2018   50000000.0  171.472948  173.613347  169.303148  171.510956   \n",
      "2019  269500000.0  181.566547  183.482539  179.648889  181.637500   \n",
      "2020          NaN  234.348696  237.939922  230.790040  234.550870   \n",
      "2021          NaN  317.405238  321.153492  313.943755  317.614762   \n",
      "\n",
      "            Volume  \n",
      "Year                \n",
      "2012  5.464815e+07  \n",
      "2013  6.009199e+07  \n",
      "2014  4.753055e+07  \n",
      "2015  2.695888e+07  \n",
      "2016  2.547507e+07  \n",
      "2017  1.678995e+07  \n",
      "2018  2.765860e+07  \n",
      "2019  1.620627e+07  \n",
      "2020  2.244630e+07  \n",
      "2021  1.746952e+07  \n"
     ]
    }
   ],
   "source": [
    "#fb_merge=pd.merge(fb_br,fb_st,on ='Year', how='left')\n",
    "print(fb_breach.shape[0],fb_stock.shape[0],fb_merge.shape[0])\n",
    "print(fb_merge)"
   ]
  },
  {
   "cell_type": "code",
   "execution_count": 10,
   "metadata": {},
   "outputs": [],
   "source": [
    "\n",
    "\n",
    "fb_merge.to_csv('Facebook_Merge.csv')\n",
    "#print(fb_merge)"
   ]
  }
 ],
 "metadata": {
  "kernelspec": {
   "display_name": "base",
   "language": "python",
   "name": "python3"
  },
  "language_info": {
   "codemirror_mode": {
    "name": "ipython",
    "version": 3
   },
   "file_extension": ".py",
   "mimetype": "text/x-python",
   "name": "python",
   "nbconvert_exporter": "python",
   "pygments_lexer": "ipython3",
   "version": "3.9.13"
  },
  "orig_nbformat": 4,
  "vscode": {
   "interpreter": {
    "hash": "e42634819b8c191a5d07eaf23810ff32516dd8d3875f28ec3e488928fbd3c187"
   }
  }
 },
 "nbformat": 4,
 "nbformat_minor": 2
}
