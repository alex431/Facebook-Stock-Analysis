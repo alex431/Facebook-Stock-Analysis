{
 "cells": [
  {
   "cell_type": "code",
   "execution_count": 23,
   "metadata": {},
   "outputs": [],
   "source": [
    "import pandas as pd\n",
    "import seaborn as sns\n",
    "import matplotlib.pyplot as plt\n",
    "import statistics as stat\n",
    "import math as ma"
   ]
  },
  {
   "cell_type": "code",
   "execution_count": 24,
   "metadata": {},
   "outputs": [],
   "source": [
    "fb_breach=pd.read_csv('FB_record_averages.csv',index_col=[0])\n",
    "fb_stock=pd.read_csv('FB_stock_averages(2012-2021).csv', index_col=[0])\n",
    "\n",
    "#fb_br.drop(['Method','Organization type','Entity'],axis=1,inplace=True)\n",
    "\n",
    "#print(fb_br.columns)\n",
    "\n",
    "fb_merge=pd.merge(fb_breach,fb_stock,on ='Year', how='right')\n"
   ]
  },
  {
   "cell_type": "code",
   "execution_count": 25,
   "metadata": {},
   "outputs": [
    {
     "name": "stdout",
     "output_type": "stream",
     "text": [
      "      Month        Open        High         Low       Close        Volume\n",
      "Year                                                                     \n",
      "2012      5   33.015556   33.868889   31.057778   31.870000  1.390570e+08\n",
      "2012      6   29.537143   30.232381   28.893333   29.540476  3.180526e+07\n",
      "2012      7   29.143333   29.598095   28.437619   28.880000  2.477094e+07\n",
      "2012      8   20.287391   20.644783   19.768696   20.108261  5.008456e+07\n",
      "2012      9   20.629474   21.089474   20.170526   20.627895  5.571809e+07\n",
      "...     ...         ...         ...         ...         ...           ...\n",
      "2021      6  335.753636  339.281365  332.804090  336.425909  1.567320e+07\n",
      "2021      7  352.984288  356.978571  349.225237  353.377145  1.597194e+07\n",
      "2021      8  361.626823  365.617271  359.100908  363.016821  1.027787e+07\n",
      "2021      9  365.055713  367.679523  360.536189  363.967143  1.610047e+07\n",
      "2021     10  341.609985  345.010010  338.640015  343.010010  1.478951e+07\n",
      "\n",
      "[114 rows x 6 columns]\n"
     ]
    }
   ],
   "source": [
    "print(fb_stock)"
   ]
  },
  {
   "cell_type": "code",
   "execution_count": 26,
   "metadata": {},
   "outputs": [
    {
     "name": "stdout",
     "output_type": "stream",
     "text": [
      "          Records\n",
      "Year             \n",
      "2013    6000000.0\n",
      "2018   50000000.0\n",
      "2019  269500000.0\n"
     ]
    }
   ],
   "source": [
    "print(fb_breach)"
   ]
  },
  {
   "cell_type": "code",
   "execution_count": 27,
   "metadata": {},
   "outputs": [
    {
     "name": "stdout",
     "output_type": "stream",
     "text": [
      "3 114 114\n",
      "      Records  Month        Open        High         Low       Close  \\\n",
      "Year                                                                   \n",
      "2012      NaN      5   33.015556   33.868889   31.057778   31.870000   \n",
      "2012      NaN      6   29.537143   30.232381   28.893333   29.540476   \n",
      "2012      NaN      7   29.143333   29.598095   28.437619   28.880000   \n",
      "2012      NaN      8   20.287391   20.644783   19.768696   20.108261   \n",
      "2012      NaN      9   20.629474   21.089474   20.170526   20.627895   \n",
      "...       ...    ...         ...         ...         ...         ...   \n",
      "2021      NaN      6  335.753636  339.281365  332.804090  336.425909   \n",
      "2021      NaN      7  352.984288  356.978571  349.225237  353.377145   \n",
      "2021      NaN      8  361.626823  365.617271  359.100908  363.016821   \n",
      "2021      NaN      9  365.055713  367.679523  360.536189  363.967143   \n",
      "2021      NaN     10  341.609985  345.010010  338.640015  343.010010   \n",
      "\n",
      "            Volume  \n",
      "Year                \n",
      "2012  1.390570e+08  \n",
      "2012  3.180526e+07  \n",
      "2012  2.477094e+07  \n",
      "2012  5.008456e+07  \n",
      "2012  5.571809e+07  \n",
      "...            ...  \n",
      "2021  1.567320e+07  \n",
      "2021  1.597194e+07  \n",
      "2021  1.027787e+07  \n",
      "2021  1.610047e+07  \n",
      "2021  1.478951e+07  \n",
      "\n",
      "[114 rows x 7 columns]\n"
     ]
    }
   ],
   "source": [
    "#fb_merge=pd.merge(fb_br,fb_st,on ='Year', how='left')\n",
    "print(fb_breach.shape[0],fb_stock.shape[0],fb_merge.shape[0])\n",
    "print(fb_merge)"
   ]
  },
  {
   "cell_type": "code",
   "execution_count": 28,
   "metadata": {},
   "outputs": [
    {
     "name": "stdout",
     "output_type": "stream",
     "text": [
      "Records     object\n",
      "Month        int64\n",
      "Open       float64\n",
      "High       float64\n",
      "Low        float64\n",
      "Close      float64\n",
      "Volume     float64\n",
      "Breach     float64\n",
      "dtype: object\n",
      "     Records  Month        Open        High         Low       Close  \\\n",
      "Year                                                                  \n",
      "2012     NaN      5   33.015556   33.868889   31.057778   31.870000   \n",
      "2012     NaN      6   29.537143   30.232381   28.893333   29.540476   \n",
      "2012     NaN      7   29.143333   29.598095   28.437619   28.880000   \n",
      "2012     NaN      8   20.287391   20.644783   19.768696   20.108261   \n",
      "2012     NaN      9   20.629474   21.089474   20.170526   20.627895   \n",
      "...      ...    ...         ...         ...         ...         ...   \n",
      "2021     NaN      6  335.753636  339.281365  332.804090  336.425909   \n",
      "2021     NaN      7  352.984288  356.978571  349.225237  353.377145   \n",
      "2021     NaN      8  361.626823  365.617271  359.100908  363.016821   \n",
      "2021     NaN      9  365.055713  367.679523  360.536189  363.967143   \n",
      "2021     NaN     10  341.609985  345.010010  338.640015  343.010010   \n",
      "\n",
      "            Volume  Breach  \n",
      "Year                        \n",
      "2012  1.390570e+08     0.0  \n",
      "2012  3.180526e+07     0.0  \n",
      "2012  2.477094e+07     0.0  \n",
      "2012  5.008456e+07     0.0  \n",
      "2012  5.571809e+07     0.0  \n",
      "...            ...     ...  \n",
      "2021  1.567320e+07     0.0  \n",
      "2021  1.597194e+07     0.0  \n",
      "2021  1.027787e+07     0.0  \n",
      "2021  1.610047e+07     0.0  \n",
      "2021  1.478951e+07     0.0  \n",
      "\n",
      "[114 rows x 8 columns]\n"
     ]
    }
   ],
   "source": [
    "\n",
    "#fb_merge[\"Breach\"]=[\n",
    "fb_merge[\"Records\"].fillna('NaN', inplace= True) \n",
    "fb_merge[\"Breach\"]=fb_merge[\"Records\"].replace(\"NaN\",0)\n",
    "\n",
    "#for index, row in fb_merge.iterrows():\n",
    "#     #print(row[\"Breach\"])\n",
    " #    if row[\"Breach\"] > 0:\n",
    "          #print(row[\"Breach\"])\n",
    "          #fb_merge.assign(Breach=['Breach'] * 0 + 1)\n",
    "#          fb_merge.assign(Breach=lambda x: x.Records * 0 + 1)\n",
    " #print(row[\"Breach\"])\n",
    "\n",
    "\n",
    "\n",
    "\n",
    "#if fb_merge[\"Breach\"].any() > 0:\n",
    "#    fb_merge[\"Breach\"].replace( ' ',1)\n",
    "\n",
    "\n",
    "\n",
    "#fb_merge[\"Breach\"].fillna(0,inplace=True)\n",
    "\n",
    "print(fb_merge.dtypes)\n",
    "\n",
    "#for i in fb_merge.iterrows():\n",
    "#    if fb_merge[\"Breach\"].isnull():\n",
    "#        fb_merge[\"Breach\"].fillna(0,inplace= True)\n",
    "#        print(i)\n",
    "\n",
    "\n",
    "\n",
    "#fb_null=ma.isnan(fb_merge[\"Records\"])\n",
    "#for i in fb_merge[\"Breach\"]:\n",
    "#    if fb_merge[\"Breach\"].isnull():\n",
    " #       fb_merge[\"Breach\"].fillna(0,inplace= True)\n",
    "#        print(fb_merge[\"Breach\"])\n",
    "    \n",
    "fb_merge.to_csv('Facebook_Merge.csv')\n",
    "print(fb_merge)"
   ]
  }
 ],
 "metadata": {
  "kernelspec": {
   "display_name": "base",
   "language": "python",
   "name": "python3"
  },
  "language_info": {
   "codemirror_mode": {
    "name": "ipython",
    "version": 3
   },
   "file_extension": ".py",
   "mimetype": "text/x-python",
   "name": "python",
   "nbconvert_exporter": "python",
   "pygments_lexer": "ipython3",
   "version": "3.10.9"
  },
  "orig_nbformat": 4,
  "vscode": {
   "interpreter": {
    "hash": "e42634819b8c191a5d07eaf23810ff32516dd8d3875f28ec3e488928fbd3c187"
   }
  }
 },
 "nbformat": 4,
 "nbformat_minor": 2
}
