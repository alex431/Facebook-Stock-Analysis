{
 "cells": [
  {
   "cell_type": "code",
   "execution_count": 26,
   "metadata": {},
   "outputs": [],
   "source": [
    "import pandas as pd\n",
    "import seaborn as sns\n",
    "import matplotlib.pyplot as plt\n",
    "import statistics as stat"
   ]
  },
  {
   "cell_type": "code",
   "execution_count": 27,
   "metadata": {},
   "outputs": [],
   "source": [
    "fb_br=pd.read_csv('Facebook_Data_Breaches.csv',index_col=[0])\n",
    "fb_st=pd.read_csv('Facebook_Stock_Filter.csv',index_col=[0])\n",
    "fb_merge=pd.merge(fb_br,fb_st)\n"
   ]
  },
  {
   "cell_type": "code",
   "execution_count": 28,
   "metadata": {},
   "outputs": [
    {
     "name": "stdout",
     "output_type": "stream",
     "text": [
      "Index(['Entity', 'Year', 'Records', 'Organization type', 'Method'], dtype='object') Index(['Entity', 'Date', 'Open', 'High', 'Low', 'Close', 'Volume'], dtype='object') Index(['Entity', 'Year', 'Records', 'Organization type', 'Method', 'Date',\n",
      "       'Open', 'High', 'Low', 'Close', 'Volume'],\n",
      "      dtype='object')\n",
      "5 755 3775\n"
     ]
    }
   ],
   "source": [
    "print(fb_br.columns, fb_st.columns, fb_merge.columns)\n",
    "print(fb_br.shape[0], fb_st.shape[0], fb_merge.shape[0])\n",
    "\n",
    "fb_merge.to_csv('Facebook_Merge.csv')"
   ]
  }
 ],
 "metadata": {
  "kernelspec": {
   "display_name": "base",
   "language": "python",
   "name": "python3"
  },
  "language_info": {
   "codemirror_mode": {
    "name": "ipython",
    "version": 3
   },
   "file_extension": ".py",
   "mimetype": "text/x-python",
   "name": "python",
   "nbconvert_exporter": "python",
   "pygments_lexer": "ipython3",
   "version": "3.9.13"
  },
  "orig_nbformat": 4,
  "vscode": {
   "interpreter": {
    "hash": "e42634819b8c191a5d07eaf23810ff32516dd8d3875f28ec3e488928fbd3c187"
   }
  }
 },
 "nbformat": 4,
 "nbformat_minor": 2
}
