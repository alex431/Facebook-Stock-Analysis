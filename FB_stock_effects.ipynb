{
 "cells": [
  {
   "attachments": {},
   "cell_type": "markdown",
   "metadata": {},
   "source": [
    "Importing libraries for data manipulation and visualization."
   ]
  },
  {
   "cell_type": "code",
   "execution_count": 1,
   "metadata": {},
   "outputs": [],
   "source": [
    "import pandas as pd\n",
    "import seaborn as sns\n",
    "import matplotlib.pyplot as plt\n",
    "import statistics as stat"
   ]
  },
  {
   "attachments": {},
   "cell_type": "markdown",
   "metadata": {},
   "source": [
    "Reading csv files into two dataframes. Then I'm performing a pandas merge via right outer join on the 'Year' column to serve as my key. "
   ]
  },
  {
   "cell_type": "code",
   "execution_count": 2,
   "metadata": {},
   "outputs": [],
   "source": [
    "fb_breach=pd.read_csv('FB_record_averages.csv',index_col=[0])\n",
    "fb_stock=pd.read_csv('FB_stock_averages(2012-2021).csv', index_col=[0])\n",
    "fb_stock_year=pd.read_csv('FB_annual_stock_averages(2012-2021).csv', index_col=[0])\n",
    "\n",
    "\n",
    "fb_merge=pd.merge(fb_breach,fb_stock,on ='Year', how='right')\n",
    "fb_merge_year=pd.merge(fb_breach,fb_stock_year,on = 'Year', how='right')"
   ]
  },
  {
   "attachments": {},
   "cell_type": "markdown",
   "metadata": {},
   "source": [
    "Here I replacing the null values of the 'Records' column with 'NaN'. My data breach dataset doesn't contain the information.Due to this limitation, I add a 'Breach' column to signify when Facebook experienced a data breach. "
   ]
  },
  {
   "cell_type": "code",
   "execution_count": 5,
   "metadata": {},
   "outputs": [
    {
     "name": "stdout",
     "output_type": "stream",
     "text": [
      "      Month Formatted Date  Breach Records        Open        High  \\\n",
      "Year                                                                 \n",
      "2012      5        2012-05       0     NaN   33.015556   33.868889   \n",
      "2012      6        2012-06       0     NaN   29.537143   30.232381   \n",
      "2012      7        2012-07       0     NaN   29.143333   29.598095   \n",
      "2012      8        2012-08       0     NaN   20.287391   20.644783   \n",
      "2012      9        2012-09       0     NaN   20.629474   21.089474   \n",
      "...     ...            ...     ...     ...         ...         ...   \n",
      "2021      6        2021-06       0     NaN  335.753636  339.281365   \n",
      "2021      7        2021-07       0     NaN  352.984288  356.978571   \n",
      "2021      8        2021-08       0     NaN  361.626823  365.617271   \n",
      "2021      9        2021-09       0     NaN  365.055713  367.679523   \n",
      "2021     10        2021-10       0     NaN  341.609985  345.010010   \n",
      "\n",
      "             Low       Close        Volume  \n",
      "Year                                        \n",
      "2012   31.057778   31.870000  1.390570e+08  \n",
      "2012   28.893333   29.540476  3.180526e+07  \n",
      "2012   28.437619   28.880000  2.477094e+07  \n",
      "2012   19.768696   20.108261  5.008456e+07  \n",
      "2012   20.170526   20.627895  5.571809e+07  \n",
      "...          ...         ...           ...  \n",
      "2021  332.804090  336.425909  1.567320e+07  \n",
      "2021  349.225237  353.377145  1.597194e+07  \n",
      "2021  359.100908  363.016821  1.027787e+07  \n",
      "2021  360.536189  363.967143  1.610047e+07  \n",
      "2021  338.640015  343.010010  1.478951e+07  \n",
      "\n",
      "[114 rows x 9 columns]\n"
     ]
    }
   ],
   "source": [
    "fb_merge['Records'].fillna('NaN', inplace= True) \n",
    "fb_merge['Breach'] = fb_merge['Records'].apply(lambda row: 0 if row == \"NaN\" else 1)\n",
    "\n",
    "fb_merge_year['Records'].fillna('NaN', inplace= True) \n",
    "fb_merge_year['Breach'] = fb_merge_year['Records'].apply(lambda row: 0 if row == \"NaN\" else 1)\n"
   ]
  },
  {
   "attachments": {},
   "cell_type": "markdown",
   "metadata": {},
   "source": [
    "Lastly, I did some rearranging of the columns and output the merged data to a csv."
   ]
  },
  {
   "cell_type": "code",
   "execution_count": null,
   "metadata": {},
   "outputs": [],
   "source": [
    "fb_merge=fb_merge[['Month','Formatted Date','Breach','Records','Open','High','Low','Close','Volume']]\n",
    "fb_merge_year=fb_merge_year[['Breach','Records','Open','High','Low','Close','Volume']]\n",
    "fb_merge.to_csv('Facebook_Merge.csv')\n",
    "fb_merge_year.to_csv('Facebook_Merge_Annual.csv')"
   ]
  }
 ],
 "metadata": {
  "kernelspec": {
   "display_name": "base",
   "language": "python",
   "name": "python3"
  },
  "language_info": {
   "codemirror_mode": {
    "name": "ipython",
    "version": 3
   },
   "file_extension": ".py",
   "mimetype": "text/x-python",
   "name": "python",
   "nbconvert_exporter": "python",
   "pygments_lexer": "ipython3",
   "version": "3.10.9"
  },
  "orig_nbformat": 4,
  "vscode": {
   "interpreter": {
    "hash": "e42634819b8c191a5d07eaf23810ff32516dd8d3875f28ec3e488928fbd3c187"
   }
  }
 },
 "nbformat": 4,
 "nbformat_minor": 2
}
