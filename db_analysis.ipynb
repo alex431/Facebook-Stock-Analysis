{
 "cells": [
  {
   "cell_type": "markdown",
   "metadata": {},
   "source": [
    "Importing libraries for data manipulation and visualization."
   ]
  },
  {
   "cell_type": "code",
   "execution_count": null,
   "metadata": {},
   "outputs": [],
   "source": [
    "\n",
    "import pandas as pd\n",
    "import seaborn as sns\n",
    "import matplotlib.pyplot as plt\n",
    "import statistics as stat\n"
   ]
  },
  {
   "cell_type": "markdown",
   "metadata": {},
   "source": [
    "Reading the csv file into a dataframe.Upon investigation, I found some of the entries to be incomplete by limited evidence. Then each column of the dataframe is tranformed into a series for accessibilty."
   ]
  },
  {
   "cell_type": "code",
   "execution_count": null,
   "metadata": {},
   "outputs": [],
   "source": [
    "\n",
    "db = pd.read_csv('DataBreaches(2004-2021).csv')\n",
    "db.drop(db.loc[db['Organization type']=='personal and demographic data about residents and their properties of US'].index, inplace=True)\n",
    "db.drop(db.loc[db['Entity'] == 'Unknown agency(believed to be tied to United States Census Bureau)'].index, inplace=True)\n",
    "db.drop(db.loc[db['Entity'] == 'Massive American business hack including 7-Eleven and Nasdaq'].index, inplace=True)\n",
    "db.drop(db.loc[db['Method']=='intentionally lost'].index, inplace=True)\n",
    "db.drop(db.loc[db['Method']=='misconfiguration/poor security'].index, inplace=True)\n",
    "db.drop(db.loc[db['Method']=='unknown'].index, inplace=True)\n",
    "db.drop(db.loc[db['Method']=='improper setting, hacked'].index,inplace=True)\n",
    "\n",
    "#I changed the method of this entry because I found supported articles that argues against the reported value.\n",
    "db_se = db.loc[(db['Method']=='poor security/inside job') & (db['Entity']=='Marriott International')].index.item()\n",
    "db.loc[db_se,'Method'] = 'social engineering'\n",
    "\n",
    "company=db['Entity']\n",
    "year=db['Year']\n",
    "records=db['Records']\n",
    "organization_type=db['Organization type']\n",
    "method = db['Method']\n",
    "\n",
    "#I changed the year of two enties for consistency and based on public discovery \n",
    "clean_year=year.replace('2018-2019',2019)\n",
    "clean_year=clean_year.replace('2014 and 2015',2015)\n",
    "db['Year'] = clean_year.astype(int)\n",
    "year = db['Year']\n"
   ]
  },
  {
   "cell_type": "markdown",
   "metadata": {},
   "source": [
    "I found that my dataset has 266 unique companies with 48 unique types of orgranizations using the len function on top of pandas's unique function.Then I borrowed the mean function from statistics to calculate the avererage of compromised records, 4,243,665. Next, I wanted to find the sum of compromised records equaling a total amount of 12,052,009,802.Lastly, I found the least and maximum amounts of compromised records.The smallest amount of compromised records is 6,700 whereas the largest amount of compromised records is 3,000,000,000."
   ]
  },
  {
   "cell_type": "code",
   "execution_count": null,
   "metadata": {},
   "outputs": [],
   "source": [
    "\n",
    "company_num_unique=len(company.unique())\n",
    "organization_type_num_unique=len(organization_type.unique())\n",
    "print('The number of unique companies breached:',company_num_unique)\n",
    "print('The number of unique types of organizations:', organization_type_num_unique)\n",
    "\n",
    "avg = stat.mean(records)\n",
    "print('The average of compromised records:',avg,)\n",
    "sum_records = sum(records)\n",
    "print('The total amount of compromised records:',sum_records)\n",
    "\n",
    "min_records = min(records)\n",
    "print('The smallest amoumt of compromised records:',min_records)\n",
    "\n",
    "max_records = max(records)\n",
    "print('The largest amount of compromised records:',max_records)\n",
    "\n",
    "attack_company=[]\n",
    "for company in company.value_counts()[lambda x: x >= 2].index:\n",
    "    attack_company.append(company)\n",
    "attack_company_series= pd.Series(attack_company)\n",
    "print('The number of companies that have been breached at least twiced:',len(attack_company_series),'\\n')\n",
    "    "
   ]
  },
  {
   "cell_type": "markdown",
   "metadata": {},
   "source": [
    "The series_replace function replaces a number of strings with a given a string. The series_query function prints the companies' names when the method or organization type is found within the dataset."
   ]
  },
  {
   "cell_type": "code",
   "execution_count": null,
   "metadata": {},
   "outputs": [],
   "source": [
    "\n",
    "def series_replace(db_data,cate,string):\n",
    "    '''A function that replaces a number of strings with a given a string'''\n",
    "    data_mod=db_data.replace(cate,string).str.lower()\n",
    "    data_mod.sort_values(inplace = True)\n",
    "    return data_mod\n",
    "\n",
    "def series_query(series,db_data,string):\n",
    "    '''A function that prints the companies' names when the method or organization type is found within the dataset'''\n",
    "    for var, company in zip(series,db_data):\n",
    "        if var == string:\n",
    "            print(company)\n",
    "    return\n",
    "    "
   ]
  },
  {
   "cell_type": "markdown",
   "metadata": {},
   "source": [
    "In an effort to clean up the data, I researched some of the data beaches in order to see if the reported method is accurate versus non-wikipedia articles.This is a plot that shows the number of occurrences per the method of breach. As it is shown in the graph, hacking is the most frequent method for a data breach between 2004-2021. On the other side, an accidental upload or unprotected api is the least frequent method."
   ]
  },
  {
   "cell_type": "code",
   "execution_count": null,
   "metadata": {},
   "outputs": [],
   "source": [
    "\n",
    "method=series_replace(db['Method'],['publicly accessible Amazon Web Services (AWS) server'],'unsecured S3 bucket')\n",
    "method=series_replace(method,['accidentally exposed','data exposed by misconfiguration','rogue contractor'],'misconfiguration')\n",
    "method=series_replace(method,['poor security / hacked'],'poor security')\n",
    "method=series_replace(method,['inside job, hacked','poor security/inside job'],'inside job')\n",
    "method=series_replace(method,['lost / stolen media','lost / stolen computer'],'lost/stolen')\n",
    "method = pd.Series([i.title()for i in method])\n",
    "\n",
    "plt.figure(figsize=(4,8))\n",
    "sns.countplot(y=method.values,order=method.value_counts().index)\n",
    "plt.ylabel('Method of the  Breach',labelpad=25)\n",
    "plt.xlabel('Number of Occurrences',labelpad=25)\n",
    "plt.title('Number of Occurrences vs Method of the Breach')\n"
   ]
  },
  {
   "cell_type": "markdown",
   "metadata": {},
   "source": [
    "In an effort to clean up the data, I researched some of the companies in order to find their right type/industry.This is a plot that shows the number of occurrences per type of organization. As it is shown in the graph, healthcare edged out for web for the most frequent type of organization. On the other side, there is five-way between advertising, fashion, data broker, ticket distribution, and market analysis for the least frequent type of organization."
   ]
  },
  {
   "cell_type": "code",
   "execution_count": null,
   "metadata": {},
   "outputs": [],
   "source": [
    "\n",
    "organization_type=series_replace(db['Organization type'],['telecoms','telecom','mobile carrier','online marketing'],'telecommunications')\n",
    "organization_type=series_replace(organization_type,['tech, retail','tech, web','local search'],'tech')\n",
    "organization_type=series_replace(organization_type,['government, database','government, military','military, healthcare','government, healthcare','clinical laboratory'],'healthcare')\n",
    "organization_type=series_replace(organization_type,['financial service company','financial, credit reporting','banking'],'financial')\n",
    "organization_type=series_replace(organization_type,['game'],'gaming')\n",
    "organization_type=series_replace(organization_type,['special public corporation'],'government')\n",
    "organization_type=series_replace(organization_type,['phone accessories','consumer goods','shopping'],'retail')\n",
    "organization_type=series_replace(organization_type,['educational services'],'academic')\n",
    "organization_type=series_replace(organization_type,['restaurant','hotel'],'hospitality')\n",
    "organization_type=series_replace(organization_type,['web, gaming','web, military'],'web')\n",
    "organization_type=series_replace(organization_type,['web, tech'],'social media')\n",
    "organization_type=series_replace(organization_type,['question & answer','social networking'],'social network')\n",
    "\n",
    "organization_type=pd.Series([i.title()for i in organization_type])\n",
    "\n",
    "plt.figure(figsize=(4,15))\n",
    "sns.countplot(y = organization_type.values,order=organization_type.value_counts().index)\n",
    "plt.ylabel('Type of Organization',labelpad=25)\n",
    "plt.xlabel('Number of Occurrences',labelpad=25)\n",
    "plt.title('Number of Occurrences vs Type of Organization')\n"
   ]
  },
  {
   "cell_type": "markdown",
   "metadata": {},
   "source": [
    "This is a plot that shows the number of occurrences per year. As it is shown in the graph, the most amount of the data breaches occured in 2011 whereas, the least amount of the data breaches occured in 2004.   "
   ]
  },
  {
   "cell_type": "code",
   "execution_count": null,
   "metadata": {},
   "outputs": [],
   "source": [
    "\n",
    "year_order=[i for i in range(2004,2022)]\n",
    "plt.figure(figsize=(15,15))\n",
    "sns.countplot(x = year.values,order=year_order)\n",
    "plt.xlabel('Year of the Breach',labelpad=25)\n",
    "plt.ylabel('Number of Occurrences',labelpad=25)\n",
    "plt.title('Year of the Breach vs Number of Occurrences')\n"
   ]
  },
  {
   "cell_type": "markdown",
   "metadata": {},
   "source": [
    "This is a plot that show the companies that have been breached at least 2 times. As it is shown in the graph, Facebook takes the top spot with 5 breaches whereas, there is a 10-way tie for companies who have 2 breaches."
   ]
  },
  {
   "cell_type": "code",
   "execution_count": null,
   "metadata": {},
   "outputs": [],
   "source": [
    "\n",
    "comp_att= db['Entity'].value_counts()[lambda x: x >= 2].to_frame('Number of Breaches').rename_axis('Company').reset_index()\n",
    "\n",
    "plt.figure(figsize=(15,15))\n",
    "sns.barplot(data = comp_att, y = 'Company', x = 'Number of Breaches')\n",
    "plt.ylabel('Company',labelpad=25)\n",
    "plt.xlabel('Number of Breaches',labelpad=25)\n",
    "plt.title('Companies that have been breached at least 2 times')\n"
   ]
  },
  {
   "cell_type": "markdown",
   "metadata": {},
   "source": [
    "This is a plot that shows the yearly averages betwwen 2004-2021. As it is shown in the graph, the largest average of compromised records occured during 2019 with 137,113,833 whereas the smallest average of compromised records occured during 2004 with 510,000."
   ]
  },
  {
   "cell_type": "code",
   "execution_count": null,
   "metadata": {},
   "outputs": [],
   "source": [
    "\n",
    "yearly_avg=db.groupby('Year')['Records'].mean().to_frame().astype('int64').reset_index()\n",
    "print(yearly_avg,'\\n')\n",
    "\n",
    "plt.figure(figsize=(15,15))\n",
    "sns.barplot(x='Year', y='Records', data=yearly_avg)\n",
    "plt.ticklabel_format(style='plain', axis='y' )\n",
    "plt.xlabel('Year of the Breach',labelpad=25)\n",
    "plt.ylabel('Average of compromised records',labelpad=25)\n",
    "plt.title('Year of the Breach vs Yearly Average of compromised records')\n"
   ]
  },
  {
   "cell_type": "code",
   "execution_count": null,
   "metadata": {},
   "outputs": [],
   "source": [
    "\n",
    "#mask = (db['Entity'].str.contains(\"Facebook\") ) & (db['Year'] == 2019)\n",
    "#db_facebook_filter_2019=db[mask].reset_index(drop=True)\n",
    "\n",
    "db_facebook_filter=db[db['Entity'].str.contains(\"Facebook\")].reset_index(drop=True)\n",
    "\n",
    "#print(db_facebook_filter_2019)\n",
    "db_facebook_filter.to_csv('Facebook_Data_Breaches.csv')"
   ]
  }
 ],
 "metadata": {
  "kernelspec": {
   "display_name": "base",
   "language": "python",
   "name": "python3"
  },
  "language_info": {
   "codemirror_mode": {
    "name": "ipython",
    "version": 3
   },
   "file_extension": ".py",
   "mimetype": "text/x-python",
   "name": "python",
   "nbconvert_exporter": "python",
   "pygments_lexer": "ipython3",
   "version": "3.9.13"
  },
  "orig_nbformat": 4,
  "vscode": {
   "interpreter": {
    "hash": "e42634819b8c191a5d07eaf23810ff32516dd8d3875f28ec3e488928fbd3c187"
   }
  }
 },
 "nbformat": 4,
 "nbformat_minor": 2
}
