{
 "cells": [
  {
   "attachments": {},
   "cell_type": "markdown",
   "metadata": {},
   "source": [
    "\n",
    "During my investigation, it was hope that I would find the answers to the questions raised in the beginning. Although, my results may be incomplete and inconclusive because I am looking at the effects through one perspective.\n",
    "\n",
    "As it was mentioned in the readme, this is extension of my data breaches project. I did not know the many challenges and limitations that was contained within my chosen datasets. Some of the issues that faced on this journey are but limited:\n",
    "\n",
    "<ul>\n",
    "<li>The size of my data before and after the merge</li>\n",
    "<li>The depth of pivot tables</li>\n",
    "<li>The nomenclature and complexity of dynamic visualization </li>\n",
    "<li>Understanding the scope of an analysis</li>\n",
    "</ul>\n",
    "\n",
    "These challenges impeded my investigation by limiting the type and size of data. The data breach dataset does not contain the details of an breach whereas, the facebook stock dataset does have daily details of market prices and number of traded stocks. This difference between these two datasets forced me to make pivot tables after targeting Facebook as the root of my investigation.  \n",
    "\n",
    "The most hinderance of the investigation may be not fully comprehending the complexity of Facebook in terms of their size, reach, influnence, etc.\n"
   ]
  },
  {
   "attachments": {},
   "cell_type": "markdown",
   "metadata": {},
   "source": [
    "\n",
    "What is the highest and lowest number of traded stocks?\n",
    "\n",
    "<img src=\"The Monthly Averages of Traded Stock.jpeg\">\n",
    "\n",
    "In terms of averages, the highest number of traded stocks occurred in May of 2012 with 139,057,022.22. The lowest number of traded stocks occurred in August of 2021 with 10,277,868.18.\n"
   ]
  },
  {
   "attachments": {},
   "cell_type": "markdown",
   "metadata": {},
   "source": [
    "\n",
    "What is the highest and lowest prices of stock?\n",
    "\n",
    "<img src=\"The Monthly Averages of High Price of Stock against Low Price of Stock.jpeg\">\n",
    "\n",
    "In terms of averages, the lowest price of stock for high/low occurred in August of 2012 with 20.64/19.77. The highest price of stock for high/low occurred in September of 2021 with 367.68/360.54  \n"
   ]
  },
  {
   "attachments": {},
   "cell_type": "markdown",
   "metadata": {},
   "source": [
    "\n",
    "Is there a relationship between the price of stock and the number of traded stocks?\n",
    "\n",
    "<img src=\"The Monthly Averages of Traded Stock per Closing Price of Stock.jpeg\">\n",
    "\n",
    "There seems to be a inverse relationship between the price of stock and the number of traded stocks. We can see that the price of stock is behaving in a upward trend whereas the number of traded has a downward trend. \n"
   ]
  },
  {
   "attachments": {},
   "cell_type": "markdown",
   "metadata": {},
   "source": [
    "\n",
    "In conclusion, my results are inconclusive because there may be other factors whose effects overshadowed the effects of a data breach. Facebook did experience data breaches in 2013,2018, and 2019. However, there were multiple breaches within the year of 2019. Thus, it becomes extremely difficult to pinpoint the effects of an data breach combined with influential events like the COVID-19 pandemic or government elections.\n",
    "\n",
    "There is a possible correlation or influence on the market between the number of traded stocks vs price of stock. This inverse relationship may be seen in the graph comparing these two variables through 2012-2021.  \n",
    "\n",
    "The possible effects on the price of stock may be predominately seen between 2018 and 2020. In this case, we can see a number of noticeable valleys as oppose to peaks.\n",
    "\n",
    "On the other hand, the possible effects on the number of traded stocks is uncertain. It does appear that the largest number of traded stock occurred in 2012 and became an outlier. We can see number of traded stocks tumbled between 2013-15.\n"
   ]
  },
  {
   "attachments": {},
   "cell_type": "markdown",
   "metadata": {},
   "source": [
    "Food for thought: Data breaches are attempted to be handled internally by suspected companies. Thus, we do not know the true date of a breach. When a breach becomes a public knowledge, their effects are in an amplified state. In order to find the effects of an breach in terms of stock, I would try to narrow the findings down to the month by either consensus or legitimate sources. However, an organizations' size may a play key factor in analysis of stock data. "
   ]
  }
 ],
 "metadata": {
  "kernelspec": {
   "display_name": "Python 3",
   "language": "python",
   "name": "python3"
  },
  "language_info": {
   "codemirror_mode": {
    "name": "ipython",
    "version": 3
   },
   "file_extension": ".py",
   "mimetype": "text/x-python",
   "name": "python",
   "nbconvert_exporter": "python",
   "pygments_lexer": "ipython3",
   "version": "3.10.9"
  },
  "orig_nbformat": 4
 },
 "nbformat": 4,
 "nbformat_minor": 2
}
