{
 "cells": [
  {
   "attachments": {},
   "cell_type": "markdown",
   "metadata": {},
   "source": [
    "\n",
    "During my investigation, it was hope that I would find the answers to the questions raised in the beginning. Although, my results may be incomplete and inconclusive because I am looking at the effects through one perspective.\n",
    "\n",
    "As it was mentioned in the readme, this is extension of my data breaches project. I did not know the many challenges and limitations that was contained within my chosen datasets. Some of the issues that faced on this journey are but limited:\n",
    "\n",
    "<ul>\n",
    "<li>The size of my data before and after the merge</li>\n",
    "<li>The depth of pivot tables</li>\n",
    "<li>The nomenclature and complexity of dynamic visualization </li>\n",
    "<li>Understanding the scope of an analysis</li>\n",
    "</ul>\n",
    "\n",
    "These challenges impeded my investigation by limiting \n",
    "the type and size of data. The most hinderance of the investigation may be not fully comprehending the complexity of Facebook."
   ]
  },
  {
   "attachments": {},
   "cell_type": "markdown",
   "metadata": {},
   "source": [
    "\n",
    "What is the the highest and lowest number of traded stocks?\n",
    "\n",
    "<img src=\"The Monthly Averages of Traded Stock.jpeg\">\n",
    "\n",
    "In terms of averages, the highest number of traded stocks occured in May of 2012 with 139,057,022.22. The lowest number of traded stocks occured in August of 2021 with 10,277,868.18.\n"
   ]
  },
  {
   "attachments": {},
   "cell_type": "markdown",
   "metadata": {},
   "source": [
    "\n",
    "What is the highest and lowest prices of stock?\n",
    "\n",
    "<img src=\"The Monthly Averages of High Price of Stock against Low Price of Stock.jpeg\">\n",
    "\n",
    "In terms of averages, the lowest price of stock for high/low occured in August of 2012 with 20.64/19.77. The highest price of stock for high/low occured in September of 2021 with 367.68/360.54  \n"
   ]
  },
  {
   "attachments": {},
   "cell_type": "markdown",
   "metadata": {},
   "source": [
    "\n",
    "Is there a relationship between the price of stock and the number of traded stocks?\n",
    "\n",
    "<img src=\"The Monthly Averages of Traded Stock per Closing Price of Stock.jpeg\">\n",
    "\n",
    "There seems to be a inverse relationship between the price of stock and the number of traded stocks. We can see that the price of stock is behaving in a upward trend whereas the number of of traded has a downward trend. \n"
   ]
  },
  {
   "attachments": {},
   "cell_type": "markdown",
   "metadata": {},
   "source": [
    "\n",
    "In conclusion, my results are inconclusive because there may be other factors whose effects overshadowed the effects of data breach.\n",
    "\n",
    "There is a possible correlation or influence on the market between the number of traded stocks vs price of stock.This inverse relationship may be seen in the graph comparing these two variables through 2012-2021.  \n",
    "\n",
    "The possible effects on the price of stock may be predominately seen between 2018 and 2020. In this case, we can see a number of noticeable valleys as oppose to peaks.\n",
    "\n",
    "On the other hand, the possible effects on the number of traded stocks is uncertain. It does appears that the largest number of traded stock occured in 2012 and became an outlier. We can see number of traded stock just tumbled between 2013-15.\n",
    "\n",
    "Facebook did experience an data breach in 2013,2018,and 2019. \n"
   ]
  }
 ],
 "metadata": {
  "kernelspec": {
   "display_name": "Python 3",
   "language": "python",
   "name": "python3"
  },
  "language_info": {
   "codemirror_mode": {
    "name": "ipython",
    "version": 3
   },
   "file_extension": ".py",
   "mimetype": "text/x-python",
   "name": "python",
   "nbconvert_exporter": "python",
   "pygments_lexer": "ipython3",
   "version": "3.10.9"
  },
  "orig_nbformat": 4
 },
 "nbformat": 4,
 "nbformat_minor": 2
}
