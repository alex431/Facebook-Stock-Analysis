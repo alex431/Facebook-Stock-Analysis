{
 "cells": [
  {
   "attachments": {},
   "cell_type": "markdown",
   "metadata": {},
   "source": [
    "\n",
    "During my investigation, I was unable to find the effects of a data breach that reflected in stock pricing and the number of traded stocks. Thus, my results are inconclusive.\n",
    "\n",
    "As it was mentioned in the readme, this is an extension of my data breaches analysis project. I did not know the many challenges and limitations that were contained within my chosen datasets. Some of the issues that I faced on this journey are but limited:\n",
    "\n",
    "<ul>\n",
    "<li>The size of my data before and after the merge</li>\n",
    "<li>The depth of pivot tables</li>\n",
    "<li>The nomenclature and complexity of dynamic visualization </li>\n",
    "<li>Understanding the scope of an analysis</li>\n",
    "</ul>\n",
    "\n",
    "These challenges impeded my investigation by limiting the type and size of data. The data breaches dataset does not contain the details of a breach, whereas the Facebook stock dataset does have daily details of market prices and the number of traded stocks. This difference between these two datasets forced me to make pivot tables after targeting Facebook as the root of my investigation.\n",
    "\n",
    "The biggest hindrance to the investigation may be not fully comprehending the complexity of Facebook in terms of its size, reach, influence, etc.\n"
   ]
  },
  {
   "attachments": {},
   "cell_type": "markdown",
   "metadata": {},
   "source": [
    "\n",
    "What are the highest and lowest number of traded stocks?\n",
    "\n",
    "<img src=\"The Monthly Averages of Traded Stock.jpeg\">\n",
    "\n",
    "In terms of averages, the highest number of traded stocks occurred in May of 2012 with 139,057,022.22. The lowest number of traded stocks occurred in August of 2021 with 10,277,868.18.\n"
   ]
  },
  {
   "attachments": {},
   "cell_type": "markdown",
   "metadata": {},
   "source": [
    "\n",
    "What are the highest and lowest prices of a stock?\n",
    "\n",
    "<img src=\"The Monthly Averages of High Price of Stock against Low Price of Stock.jpeg\">\n",
    "\n",
    "In terms of averages, the lowest price of a stock for high/low occurred in August of 2012 at 20.64/19.77. The highest price of a stock for high/low occurred in September of 2021 at 367.68/360.54.  \n"
   ]
  },
  {
   "attachments": {},
   "cell_type": "markdown",
   "metadata": {},
   "source": [
    "\n",
    "Is there a relationship between the price of a stock and the number of traded stocks?\n",
    "\n",
    "<img src=\"The Monthly Averages of Traded Stock per Closing Price of Stock.jpeg\">\n",
    "\n",
    "There seems to be an inverse relationship between the price of a stock and the number of traded stocks. We can see that the price of a stock is on an upward trend,whereas the number of traded stocks is on a downward trend. \n"
   ]
  },
  {
   "attachments": {},
   "cell_type": "markdown",
   "metadata": {},
   "source": [
    "\n",
    "In conclusion, my results are inconclusive because there may be other factors whose effects overshadow the effects of a data breach. Facebook did experience data breaches in 2013, 2018, and 2019. However, there were multiple breaches within the year of 2019. Thus, it becomes extremely difficult to pinpoint the effects of a data breach combined with influential events like the COVID-19 pandemic or government elections.\n",
    "\n",
    "There is a possible correlation or influence on the market between the number of traded stocks and the price of a stock. This inverse relationship may be seen in the graph comparing these two variables from 2012 to 2021.  \n",
    "\n",
    "The possible effects on the price of a stock may be predominantly seen between 2018 and 2020. In this case, we can see a number of noticeable valleys as opposed to peaks.\n",
    "\n",
    "On the other hand, the possible effects on the number of traded stocks are uncertain. It does appear that the largest number of traded stocks occurred in 2012 and became an outlier. We can see the number of traded stocks tumbled between 2013 and 2015.\n"
   ]
  },
  {
   "attachments": {},
   "cell_type": "markdown",
   "metadata": {},
   "source": [
    "\n",
    "Food for thought: Data breaches are attempted to be handled internally by suspected companies. Thus, we do not know the exact date of the breach. The stock price and volume of traded stock vary when an event such as a breach becomes public knowledge. The effects on stock trading should be amplified and correlate to public disclosure. However, an organization's size or event's influence may play a key factor in the analysis of stock data.\n"
   ]
  }
 ],
 "metadata": {
  "kernelspec": {
   "display_name": "Python 3",
   "language": "python",
   "name": "python3"
  },
  "language_info": {
   "codemirror_mode": {
    "name": "ipython",
    "version": 3
   },
   "file_extension": ".py",
   "mimetype": "text/x-python",
   "name": "python",
   "nbconvert_exporter": "python",
   "pygments_lexer": "ipython3",
   "version": "3.10.9"
  },
  "orig_nbformat": 4
 },
 "nbformat": 4,
 "nbformat_minor": 2
}
